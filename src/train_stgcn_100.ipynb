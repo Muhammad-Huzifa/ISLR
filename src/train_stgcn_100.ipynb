{
 "cells": [
  {
   "cell_type": "markdown",
   "metadata": {},
   "source": [
    "### Imports"
   ]
  },
  {
   "cell_type": "code",
   "execution_count": null,
   "metadata": {},
   "outputs": [],
   "source": [
    "import os\n",
    "import json\n",
    "import math\n",
    "import random\n",
    "from tqdm import tqdm\n",
    "import numpy as np\n",
    "import pandas as pd\n",
    "import matplotlib.pyplot as plt\n",
    "import torch\n",
    "import torch.nn as nn\n",
    "from torch.utils.data import Dataset, DataLoader\n",
    "from sklearn.utils.class_weight import compute_class_weight"
   ]
  },
  {
   "cell_type": "markdown",
   "metadata": {},
   "source": [
    "### --- 2. Configuration ---"
   ]
  },
  {
   "cell_type": "code",
   "execution_count": null,
   "metadata": {},
   "outputs": [],
   "source": [
    "# Path to your landmark file (created by the first notebook)\n",
    "LANDMARK_FILE = r'../data/Landmarks_GCN_augmented.npz'\n",
    "# Path to the JSON file defining the 100-class dataset\n",
    "SPLIT_FILE = r'../data/nslt_100.json'\n",
    "# Path to a new folder where all outputs (models, logs) will be saved\n",
    "OUTPUT_DIR = r'../outputs/stgcn_100/'"
   ]
  },
  {
   "cell_type": "markdown",
   "metadata": {},
   "source": [
    "#### --- Hyperparameters ---"
   ]
  },
  {
   "cell_type": "code",
   "execution_count": null,
   "metadata": {},
   "outputs": [],
   "source": [
    "NUM_CLASSES = 100\n",
    "TOTAL_LANDMARKS = 67  # 15 pose + 2 mid + 42 hands + 8 face\n",
    "C = 4                 # Channels: x, y, z, confidence\n",
    "T_FRAMES = 128        # Target number of frames per video\n",
    "BATCH_SIZE = 32\n",
    "EPOCHS = 200\n",
    "BASE_LR = 3e-4\n",
    "WEIGHT_DECAY = 1e-4\n",
    "DEVICE = torch.device('cuda' if torch.cuda.is_available() else 'cpu')\n",
    "USE_AMP = True        # Automatic Mixed Precision (faster training)\n",
    "MIXUP_ALPHA = 0.4     # Mixup augmentation strength\n",
    "LABEL_SMOOTHING = 0.1\n",
    "NUM_WORKERS = 2       # For data loading"
   ]
  },
  {
   "cell_type": "markdown",
   "metadata": {},
   "source": [
    "#### --- Reproducibility ---"
   ]
  },
  {
   "cell_type": "code",
   "execution_count": null,
   "metadata": {},
   "outputs": [],
   "source": [
    "SEED = 42\n",
    "random.seed(SEED)\n",
    "np.random.seed(SEED)\n",
    "torch.manual_seed(SEED)\n",
    "if torch.cuda.is_available():\n",
    "    torch.cuda.manual_seed_all(SEED)"
   ]
  },
  {
   "cell_type": "markdown",
   "metadata": {},
   "source": [
    "### --- 3. Preprocessing & Augmentation ---"
   ]
  },
  {
   "cell_type": "code",
   "execution_count": null,
   "metadata": {},
   "outputs": [],
   "source": [
    "def temporal_resample(sequence, target_len):\n",
    "    \"\"\"\n",
    "    Resamples a sequence to a target length (T_FRAMES).\n",
    "    This ensures all video sequences have the same number of frames.\n",
    "    \"\"\"\n",
    "    orig_len = sequence.shape[0]\n",
    "    if orig_len == target_len:\n",
    "        return sequence\n",
    "    # If only 1 frame, repeat it\n",
    "    if orig_len == 1:\n",
    "        return np.repeat(sequence, target_len, axis=0)\n",
    "    \n",
    "    # Generate target frame indices\n",
    "    target_positions = np.linspace(0, orig_len - 1, target_len)\n",
    "    old_idx = np.arange(orig_len)\n",
    "    \n",
    "    # Interpolate each channel (x, y, z, c) for each landmark\n",
    "    out = np.zeros((target_len, sequence.shape[1], sequence.shape[2]), dtype=sequence.dtype)\n",
    "    for v in range(sequence.shape[1]): # Iterate landmarks\n",
    "        for c in range(sequence.shape[2]): # Iterate channels\n",
    "            values = sequence[:, v, c]\n",
    "            out[:, v, c] = np.interp(target_positions, old_idx, values)\n",
    "    return out\n",
    "\n",
    "class LandmarkPreprocessor:\n",
    "    \"\"\"\n",
    "    Handles normalization and augmentation of the landmark data.\n",
    "    - Normalization: Makes the data robust to signer's position/size.\n",
    "    - Augmentation: Creates new variations of data during training.\n",
    "    \"\"\"\n",
    "    def __init__(self, augment=True, target_frames=T_FRAMES):\n",
    "        self.augment = augment\n",
    "        self.target_frames = target_frames\n",
    "        # Landmark indices (must match 'extract_landmarks.ipynb')\n",
    "        self.POSE_IDXS = list(range(0, 17))\n",
    "        self.LEFT_HAND_IDXS = list(range(17, 38))\n",
    "        self.RIGHT_HAND_IDXS = list(range(38, 59))\n",
    "        self.FACE_IDXS = list(range(59, 67))\n",
    "\n",
    "    def normalize_frame(self, frame):\n",
    "        \"\"\"Normalizes a single frame of landmarks.\"\"\"\n",
    "        normalized = frame.copy()\n",
    "        \n",
    "        # --- Pose + face normalization (relative to nose/shoulders) ---\n",
    "        try:\n",
    "            pose = frame[self.POSE_IDXS, :2]\n",
    "            if np.sum(np.abs(pose)) > 0:\n",
    "                nose = pose[0]\n",
    "                l_s = pose[1] if len(pose) > 1 else nose\n",
    "                r_s = pose[2] if len(pose) > 2 else nose + 0.1\n",
    "                if np.all(l_s == 0) or np.all(r_s == 0):\n",
    "                    l_s = np.nan_to_num(np.mean(pose, axis=0))\n",
    "                    r_s = l_s + 0.1\n",
    "                dist = np.linalg.norm(l_s - r_s)\n",
    "                if dist < 1e-4: dist = 0.1\n",
    "                hu = dist / 2.0\n",
    "                bw = 6 * hu\n",
    "                bh = 7 * hu\n",
    "                bx = nose[0] - 3 * hu\n",
    "                by = nose[1] - 0.5 * hu\n",
    "                pf_idxs = self.POSE_IDXS + self.FACE_IDXS\n",
    "                normalized[pf_idxs, 0] = (frame[pf_idxs, 0] - bx) / max(bw, 1e-6) - 0.5\n",
    "                normalized[pf_idxs, 1] = (frame[pf_idxs, 1] - by) / max(bh, 1e-6) - 0.5\n",
    "        except Exception:\n",
    "            pass # Keep original data if normalization fails\n",
    "\n",
    "        # --- Hand normalization (relative to each hand's bounding box) ---\n",
    "        for h_idxs in [self.LEFT_HAND_IDXS, self.RIGHT_HAND_IDXS]:\n",
    "            try:\n",
    "                hand = frame[h_idxs]\n",
    "                if np.sum(np.abs(hand)) > 0:\n",
    "                    xs, ys = hand[:, 0], hand[:, 1]\n",
    "                    if (np.max(xs) != np.min(xs)) or (np.max(ys) != np.min(ys)):\n",
    "                        xmin, xmax, ymin, ymax = np.min(xs), np.max(xs), np.min(ys), np.max(ys)\n",
    "                        box_size = max(xmax - xmin, ymax - ymin, 1e-4)\n",
    "                        normalized[h_idxs, 0] = (hand[:, 0] - xmin) / box_size - 0.5\n",
    "                        normalized[h_idxs, 1] = (hand[:, 1] - ymin) / box_size - 0.5\n",
    "            except Exception:\n",
    "                continue # Keep original data if normalization fails\n",
    "\n",
    "        # --- Z-axis normalization (relative to torso) ---\n",
    "        try:\n",
    "            torso_z = frame[self.POSE_IDXS, 2]\n",
    "            torso_z_nonzero = torso_z[torso_z != 0]\n",
    "            if len(torso_z_nonzero) > 0:\n",
    "                median_z = np.median(torso_z_nonzero)\n",
    "                normalized[:, 2] = (frame[:, 2] - median_z)\n",
    "        except Exception:\n",
    "            pass\n",
    "\n",
    "        return normalized\n",
    "\n",
    "    def augment_sequence(self, seq):\n",
    "        \"\"\"Applies augmentations to a full sequence.\"\"\"\n",
    "        # --- Aug: Rotation noise ---\n",
    "        angle = random.uniform(-12, 12)\n",
    "        rad = math.radians(angle)\n",
    "        cos, sin = math.cos(rad), math.sin(rad)\n",
    "        R = np.array([[cos, -sin], [sin, cos]], dtype=np.float32)\n",
    "        xy = seq[:, :, :2].reshape(-1, 2)\n",
    "        xy = xy @ R.T\n",
    "        seq[:, :, :2] = xy.reshape(seq.shape[0], seq.shape[1], 2)\n",
    "        # --- Aug: Add small random noise ---\n",
    "        seq += np.random.normal(0, 0.003, size=seq.shape).astype(np.float32)\n",
    "\n",
    "        # --- Aug: Temporal jitter (drop/repeat frames) ---\n",
    "        if random.random() < 0.5:\n",
    "            T = seq.shape[0]\n",
    "            jittered = []\n",
    "            for t in range(T):\n",
    "                if random.random() < 0.05 and t < T - 1:\n",
    "                    continue # 5% chance to drop frame\n",
    "                jittered.append(seq[t])\n",
    "                if random.random() < 0.05:\n",
    "                    jittered.append(seq[t]) # 5% chance to repeat frame\n",
    "            if len(jittered) < 2:\n",
    "                jittered = [seq[t] for t in range(T)]\n",
    "            jittered = np.stack(jittered, axis=0)\n",
    "            seq = temporal_resample(jittered, self.target_frames) # Resample back to target\n",
    "        return seq\n",
    "\n",
    "    def __call__(self, landmark_sequence: np.ndarray, is_train: bool):\n",
    "        \"\"\"Applies the full preprocessing pipeline.\"\"\"\n",
    "        # Clean NaNs and resample time\n",
    "        landmark_sequence = np.nan_to_num(landmark_sequence, 0.0).astype(np.float32)\n",
    "        seq = temporal_resample(landmark_sequence, self.target_frames)\n",
    "        \n",
    "        # Normalize each frame\n",
    "        seq = np.stack([self.normalize_frame(frame) for frame in seq], axis=0)\n",
    "        \n",
    "        # Apply augmentations only if it's training data\n",
    "        if is_train and self.augment:\n",
    "            seq = self.augment_sequence(seq)\n",
    "            \n",
    "        return seq"
   ]
  },
  {
   "cell_type": "markdown",
   "metadata": {},
   "source": [
    "### --- 4. PyTorch Dataset ---"
   ]
  },
  {
   "cell_type": "code",
   "execution_count": null,
   "metadata": {},
   "outputs": [],
   "source": [
    "class WLASLLandmarkDataset(Dataset):\n",
    "    \"\"\"\n",
    "    A PyTorch Dataset class to load landmarks and labels.\n",
    "    - Loads data from the .npz file.\n",
    "    - Reads the train/val/test split from the .json file.\n",
    "    - Uses the `label_map` to convert string labels (e.g., \"17\") to integer indices (e.g., 0).\n",
    "    - Applies the `preprocessor`.\n",
    "    \"\"\"\n",
    "    def __init__(self, landmark_path, split_file_path, split='train', preprocessor=None, label_map=None):\n",
    "        self.split = split\n",
    "        self.preprocessor = preprocessor if preprocessor is not None else LandmarkPreprocessor()\n",
    "        \n",
    "        # Load the big landmark file\n",
    "        landmarks_data = dict(np.load(landmark_path, allow_pickle=True))\n",
    "        \n",
    "        # Load the train/val/test split definition\n",
    "        with open(split_file_path, 'r') as f:\n",
    "            split_data = json.load(f)\n",
    "        split_dict = split_data.get('root', split_data)\n",
    "        \n",
    "        self.samples = []\n",
    "        for video_id, info in split_dict.items():\n",
    "            # Check if this video is in the correct split (train, val, or test)\n",
    "            subset = info.get('subset') or info.get('split') or info.get('subset', None)\n",
    "            if subset == self.split:\n",
    "                # Check if we have landmarks for this video\n",
    "                if video_id in landmarks_data:\n",
    "                    action = info.get('action', [])\n",
    "                    if not isinstance(action, list) or len(action) == 0:\n",
    "                        continue\n",
    "                    \n",
    "                    # Get the raw label (e.g., \"17\", \"42\")\n",
    "                    raw_label = action[0]\n",
    "                    \n",
    "                    # Use the label_map to get a 0-indexed integer label\n",
    "                    if label_map is None:\n",
    "                        label = int(raw_label) # Fails if labels aren't 0-N\n",
    "                    else:\n",
    "                        if str(raw_label) not in label_map:\n",
    "                            continue # Skip if this label isn't in our 100 classes\n",
    "                        label = int(label_map[str(raw_label)])\n",
    "                        \n",
    "                    landmarks = landmarks_data[video_id]\n",
    "                    self.samples.append({\"video_id\": video_id, \"landmarks\": landmarks, \"label\": label})\n",
    "                    \n",
    "        print(f\"✅ Created '{self.split}' split with {len(self.samples)} samples.\")\n",
    "\n",
    "    def __len__(self):\n",
    "        return len(self.samples)\n",
    "\n",
    "    def __getitem__(self, idx):\n",
    "        sample = self.samples[idx]\n",
    "        landmark_sequence = sample[\"landmarks\"]\n",
    "        \n",
    "        # Handle a legacy flattened format (if data is (T, V*3) instead of (T, V, 3))\n",
    "        if isinstance(landmark_sequence, np.ndarray) and landmark_sequence.ndim == 2 and landmark_sequence.shape[1] == TOTAL_LANDMARKS * 3:\n",
    "            landmark_sequence = landmark_sequence.reshape(-1, TOTAL_LANDMARKS, 3)\n",
    "            \n",
    "        # Apply normalization and augmentation\n",
    "        processed = self.preprocessor(landmark_sequence, is_train=(self.split == 'train'))\n",
    "        \n",
    "        # Transpose to (C, T, V) format for PyTorch Conv2D layers\n",
    "        processed = np.transpose(processed, (2, 0, 1)).astype(np.float32)  # (4, 128, 67)\n",
    "        \n",
    "        label = int(sample['label'])\n",
    "        \n",
    "        return torch.from_numpy(processed), torch.tensor(label, dtype=torch.long)\n",
    "\n",
    "def collate_fn(batch):\n",
    "    \"\"\"Custom collate function to stack batch data.\"\"\"\n",
    "    xs, ys = zip(*batch)\n",
    "    xs = torch.stack(xs, dim=0)\n",
    "    ys = torch.tensor(ys, dtype=torch.long)\n",
    "    return xs, ys"
   ]
  },
  {
   "cell_type": "markdown",
   "metadata": {},
   "source": [
    "### --- 5. ST-GCN Model ---"
   ]
  },
  {
   "cell_type": "code",
   "execution_count": null,
   "metadata": {},
   "outputs": [],
   "source": [
    "class GraphConv(nn.Module):\n",
    "    \"\"\"\n",
    "    Spatial Graph Convolution layer.\n",
    "    It learns a weighted adjacency matrix 'A' and applies a transform 'theta'.\n",
    "    \"\"\"\n",
    "    def __init__(self, in_channels, out_channels, num_nodes, bias=True):\n",
    "        super().__init__()\n",
    "        self.in_channels = in_channels\n",
    "        self.out_channels = out_channels\n",
    "        \n",
    "        self.theta = nn.Parameter(torch.Tensor(in_channels, out_channels))\n",
    "        # A is the learnable adjacency matrix\n",
    "        self.A = nn.Parameter(torch.eye(num_nodes, dtype=torch.float32), requires_grad=True)\n",
    "        \n",
    "        if bias:\n",
    "            self.bias = nn.Parameter(torch.zeros(out_channels))\n",
    "        else:\n",
    "            self.register_parameter('bias', None)\n",
    "        nn.init.xavier_uniform_(self.theta)\n",
    "\n",
    "    def forward(self, x):\n",
    "        B, C, T, V = x.shape\n",
    "        # Reshape for matrix multiplication: (B, C, T, V) -> (B*T, V, C)\n",
    "        x_perm = x.permute(0, 2, 3, 1).contiguous().view(B * T, V, C)\n",
    "        \n",
    "        # y = A @ x @ theta\n",
    "        y = x_perm @ self.theta\n",
    "        A = self.A.unsqueeze(0)\n",
    "        y = torch.bmm(A.repeat(B * T, 1, 1), y)\n",
    "        \n",
    "        # Reshape back to (B, C_out, T, V)\n",
    "        y = y.view(B, T, V, self.out_channels).permute(0, 3, 1, 2).contiguous()\n",
    "        if self.bias is not None:\n",
    "            y = y + self.bias.view(1, -1, 1, 1)\n",
    "        return y\n",
    "\n",
    "class STGCNBlock(nn.Module):\n",
    "    \"\"\"\n",
    "    Spatio-Temporal Graph Convolutional (ST-GCN) block.\n",
    "    Combines a GraphConv (spatial) with a 2D-Conv (temporal).\n",
    "    \"\"\"\n",
    "    def __init__(self, in_channels, out_channels, num_nodes, kernel_size=9, stride=1, residual=True):\n",
    "        super().__init__()\n",
    "        self.gcn = GraphConv(in_channels, out_channels, num_nodes)\n",
    "        \n",
    "        padding = (kernel_size - 1) // 2\n",
    "        # Temporal convolution (as a 2D conv with kernel (kernel_size, 1))\n",
    "        self.tcn = nn.Sequential(\n",
    "            nn.BatchNorm2d(out_channels),\n",
    "            nn.ReLU(inplace=True),\n",
    "            nn.Conv2d(out_channels, out_channels, kernel_size=(kernel_size, 1), padding=(padding, 0), stride=(stride, 1)),\n",
    "            nn.BatchNorm2d(out_channels),\n",
    "            nn.Dropout(0.3)\n",
    "        )\n",
    "        \n",
    "        # Residual connection to help with training deep networks\n",
    "        if not residual:\n",
    "            self.residual = lambda x: 0\n",
    "        elif (in_channels == out_channels) and stride == 1:\n",
    "            self.residual = lambda x: x # Identity\n",
    "        else:\n",
    "            # 1x1 conv to match dimensions if channels or stride change\n",
    "            self.residual = nn.Sequential(\n",
    "                nn.Conv2d(in_channels, out_channels, kernel_size=1, stride=(stride,1)),\n",
    "                nn.BatchNorm2d(out_channels),\n",
    "            )\n",
    "        self.relu = nn.ReLU(inplace=True)\n",
    "\n",
    "    def forward(self, x):\n",
    "        res = self.residual(x)\n",
    "        x = self.gcn(x)\n",
    "        x = self.tcn(x)\n",
    "        x = x + res # Add residual\n",
    "        return self.relu(x)\n",
    "\n",
    "class TemporalSelfAttention(nn.Module):\n",
    "    \"\"\"\n",
    "    Applies self-attention across the TIME dimension.\n",
    "    This helps the model focus on the most important frames in the video.\n",
    "    \"\"\"\n",
    "    def __init__(self, d_model, n_heads=4):\n",
    "        super().__init__()\n",
    "        self.attn = nn.MultiheadAttention(d_model, n_heads, batch_first=True)\n",
    "        self.ln = nn.LayerNorm(d_model) # Layer normalization\n",
    "\n",
    "    def forward(self, x):\n",
    "        B, C, T, V = x.shape\n",
    "        # Reshape for attention: (B, C, T, V) -> (B*V, T, C)\n",
    "        # This treats each landmark's time-series independently\n",
    "        x = x.permute(0, 3, 2, 1).contiguous().view(B * V, T, C)\n",
    "        \n",
    "        # Apply self-attention (query=x, key=x, value=x)\n",
    "        out, _ = self.attn(x, x, x)\n",
    "        \n",
    "        # Add residual connection and normalize\n",
    "        out = self.ln(out + x)\n",
    "        \n",
    "        # Reshape back to (B, C, T, V)\n",
    "        out = out.view(B, V, T, C).permute(0, 3, 2, 1).contiguous()\n",
    "        return out\n",
    "\n",
    "class STGCN(nn.Module):\n",
    "    \"\"\"\n",
    "    The full ST-GCN model with Temporal Self-Attention.\n",
    "    \"\"\"\n",
    "    def __init__(self, in_channels, num_class, num_nodes):\n",
    "        super().__init__()\n",
    "        # Input batch normalization\n",
    "        self.data_bn = nn.BatchNorm1d(in_channels * num_nodes)\n",
    "        \n",
    "        # Backbone of ST-GCN blocks\n",
    "        self.layers = nn.ModuleList([\n",
    "            STGCNBlock(in_channels, 64, num_nodes, kernel_size=9, stride=1, residual=False),\n",
    "            STGCNBlock(64, 64, num_nodes, kernel_size=9, stride=1),\n",
    "            STGCNBlock(64, 128, num_nodes, kernel_size=9, stride=2), # Downsample time\n",
    "            STGCNBlock(128, 256, num_nodes, kernel_size=9, stride=2), # Downsample time\n",
    "        ])\n",
    "        \n",
    "        # Temporal Attention layer\n",
    "        self.temporal_attn = TemporalSelfAttention(d_model=256, n_heads=4)\n",
    "        \n",
    "        # Global pooling and final classifier\n",
    "        self.pool = nn.AdaptiveAvgPool2d((1,1))\n",
    "        self.fc = nn.Linear(256, num_class)\n",
    "\n",
    "    def forward(self, x):\n",
    "        B, C, T, V = x.shape\n",
    "        \n",
    "        # Apply initial batch norm\n",
    "        x = x.permute(0, 1, 3, 2).contiguous()\n",
    "        x = x.view(B, C * V, T)\n",
    "        x = self.data_bn(x)\n",
    "        x = x.view(B, C, V, T).permute(0, 1, 3, 2).contiguous() # (B, C, T, V)\n",
    "        \n",
    "        # Pass through ST-GCN blocks\n",
    "        for layer in self.layers:\n",
    "            x = layer(x)\n",
    "            \n",
    "        # Pass through temporal attention\n",
    "        x = self.temporal_attn(x)\n",
    "        \n",
    "        # Pool features and classify\n",
    "        x = self.pool(x) # (B, 256, 1, 1)\n",
    "        x = x.view(B, -1) # (B, 256)\n",
    "        out = self.fc(x)\n",
    "        \n",
    "        return out\n",
    "\n",
    "# --------------------------\n",
    "# --- 6. Metrics & Mixup ---\n",
    "# --------------------------\n",
    "\n",
    "def mixup_data(x, y, alpha=1.0, device=None):\n",
    "    \"\"\"\n",
    "    Applies Mixup augmentation.\n",
    "    Blends pairs of samples (x, y) from the batch.\n",
    "    \"\"\"\n",
    "    if alpha <= 0:\n",
    "        return x, y, y, 1.0\n",
    "        \n",
    "    lam = np.random.beta(alpha, alpha) # Sample blending factor\n",
    "    batch_size = x.size(0)\n",
    "    index = torch.randperm(batch_size).to(device) # Get random shuffle\n",
    "    \n",
    "    # Create mixed samples\n",
    "    mixed_x = lam * x + (1 - lam) * x[index, :]\n",
    "    y_a, y_b = y, y[index] # Get corresponding labels\n",
    "    \n",
    "    return mixed_x, y_a, y_b, lam\n",
    "\n",
    "def accuracy_topk(output, target, topk=(1,5)):\n",
    "    \"\"\"Computes the accuracy over the k top predictions.\"\"\"\n",
    "    maxk = max(topk)\n",
    "    batch_size = target.size(0)\n",
    "    \n",
    "    _, pred = output.topk(maxk, 1, True, True) # Get top-k indices\n",
    "    pred = pred.t()\n",
    "    correct = pred.eq(target.view(1, -1).expand_as(pred)) # Compare with ground truth\n",
    "    \n",
    "    res = []\n",
    "    for k in topk:\n",
    "        correct_k = correct[:k].reshape(-1).float().sum(0, keepdim=True)\n",
    "        res.append((correct_k.mul_(100.0 / batch_size)).item())\n",
    "    return res  # [top1_acc (%), top5_acc (%)]\n",
    "\n",
    "def count_parameters(model):\n",
    "    \"\"\"Counts the number of trainable parameters in a model.\"\"\"\n",
    "    return sum(p.numel() for p in model.parameters() if p.requires_grad)"
   ]
  },
  {
   "cell_type": "markdown",
   "metadata": {},
   "source": [
    "### --- 7. Training Pipeline ---"
   ]
  },
  {
   "cell_type": "code",
   "execution_count": null,
   "metadata": {},
   "outputs": [],
   "source": [
    "def prepare_label_map(split_file, target_num_classes=NUM_CLASSES):\n",
    "    \"\"\"\n",
    "    Creates a mapping from the raw string labels in the JSON (e.g., \"17\")\n",
    "    to a contiguous integer index (e.g., 0).\n",
    "    This is CRITICAL because the model outputs logits from 0 to N-1.\n",
    "    \"\"\"\n",
    "    with open(split_file, 'r') as f:\n",
    "        data = json.load(f)\n",
    "    split_dict = data.get('root', data)\n",
    "    \n",
    "    # Find all unique labels in the 'train' split\n",
    "    train_actions = set()\n",
    "    for vid, info in split_dict.items():\n",
    "        subset = info.get('subset') or info.get('split') or info.get('subset', None)\n",
    "        if subset == 'train':\n",
    "            action = info.get('action', [])\n",
    "            if isinstance(action, list) and len(action) > 0:\n",
    "                train_actions.add(str(action[0]))\n",
    "                \n",
    "    # Sort them to ensure consistent mapping\n",
    "    train_actions = sorted(list(train_actions), key=lambda x: int(x))\n",
    "    \n",
    "    if len(train_actions) != target_num_classes:\n",
    "        print(f\"[Warning] Found {len(train_actions)} unique train actions, expected {target_num_classes}.\")\n",
    "        \n",
    "    # Create the map: {\"17\": 0, \"42\": 1, ...}\n",
    "    label_map = {raw_label: idx for idx, raw_label in enumerate(train_actions)}\n",
    "    \n",
    "    return label_map\n",
    "\n",
    "\n",
    "def main():\n",
    "    # --- 1. Create Output Directory ---\n",
    "    # 💡 This new step keeps your project root folder clean.\n",
    "    os.makedirs(OUTPUT_DIR, exist_ok=True)\n",
    "    print(f\"All outputs will be saved to: {OUTPUT_DIR}\")\n",
    "\n",
    "    # --- 2. Load Data & Label Map ---\n",
    "    print(\"Preparing label map...\")\n",
    "    label_map = prepare_label_map(SPLIT_FILE, target_num_classes=NUM_CLASSES)\n",
    "    \n",
    "    print(\"Initializing preprocessor...\")\n",
    "    preprocessor = LandmarkPreprocessor(augment=True, target_frames=T_FRAMES)\n",
    "    val_preprocessor = LandmarkPreprocessor(augment=False, target_frames=T_FRAMES) # No augmentation for validation\n",
    "\n",
    "    # --- 3. Create Datasets & Loaders ---\n",
    "    print(\"Loading datasets...\")\n",
    "    train_dataset = WLASLLandmarkDataset(LANDMARK_FILE, SPLIT_FILE, split='train', preprocessor=preprocessor, label_map=label_map)\n",
    "    val_dataset = WLASLLandmarkDataset(LANDMARK_FILE, SPLIT_FILE, split='val', preprocessor=val_preprocessor, label_map=label_map)\n",
    "    test_dataset = WLASLLandmarkDataset(LANDMARK_FILE, SPLIT_FILE, split='test', preprocessor=val_preprocessor, label_map=label_map)\n",
    "\n",
    "    train_loader = DataLoader(train_dataset, batch_size=BATCH_SIZE, shuffle=True, num_workers=NUM_WORKERS, pin_memory=True, collate_fn=collate_fn)\n",
    "    val_loader = DataLoader(val_dataset, batch_size=BATCH_SIZE, shuffle=False, num_workers=NUM_WORKERS, pin_memory=True, collate_fn=collate_fn)\n",
    "    test_loader = DataLoader(test_dataset, batch_size=BATCH_SIZE, shuffle=False, num_workers=NUM_WORKERS, pin_memory=True, collate_fn=collate_fn)\n",
    "\n",
    "    # --- 4. Compute Class Weights (for unbalanced data) ---\n",
    "    print(\"Calculating class weights...\")\n",
    "    train_labels = [int(s['label']) for s in train_dataset.samples]\n",
    "    if len(train_labels) == 0:\n",
    "        raise RuntimeError('No training samples found. Check your split file and landmark file paths.')\n",
    "    unique_classes = np.unique(train_labels)\n",
    "    class_weights = compute_class_weight('balanced', classes=np.arange(len(unique_classes)), y=train_labels)\n",
    "    class_weights_tensor = torch.tensor(class_weights, dtype=torch.float32).to(DEVICE)\n",
    "    print(f\"Found {len(unique_classes)} classes. Using {len(label_map)} from label map.\")\n",
    "\n",
    "    # --- 5. Initialize Model, Optimizer, Loss ---\n",
    "    print(\"Initializing model...\")\n",
    "    model = STGCN(in_channels=C, num_class=len(unique_classes), num_nodes=TOTAL_LANDMARKS).to(DEVICE)\n",
    "    print(f\"Model has {count_parameters(model)} trainable parameters.\")\n",
    "    \n",
    "    optimizer = torch.optim.AdamW(model.parameters(), lr=BASE_LR, weight_decay=WEIGHT_DECAY)\n",
    "    scheduler = torch.optim.lr_scheduler.CosineAnnealingLR(optimizer, T_max=EPOCHS)\n",
    "    scaler = torch.cuda.amp.GradScaler(enabled=USE_AMP)\n",
    "    \n",
    "    # Loss function with class weights and label smoothing\n",
    "    criterion = nn.CrossEntropyLoss(weight=class_weights_tensor, label_smoothing=LABEL_SMOOTHING)\n",
    "\n",
    "    # --- 6. Start Training Loop ---\n",
    "    best_val = 0.0\n",
    "    train_history = {'epoch': [], 'train_loss': [], 'train_acc': [], 'val_loss': [], 'val_acc': [], 'val_top5': []}\n",
    "    \n",
    "    print(f\"--- Starting training for {EPOCHS} epochs on {DEVICE} ---\")\n",
    "    for epoch in range(EPOCHS):\n",
    "        # --- Training Phase ---\n",
    "        model.train()\n",
    "        running_loss = 0.0\n",
    "        running_acc = 0.0\n",
    "        total_samples = 0\n",
    "        \n",
    "        pbar = tqdm(train_loader, desc=f\"Epoch {epoch+1}/{EPOCHS} Train\")\n",
    "        for x, y in pbar:\n",
    "            x = x.to(DEVICE)\n",
    "            y = y.to(DEVICE)\n",
    "            batch_size = x.size(0)\n",
    "            \n",
    "            # Apply Mixup\n",
    "            if MIXUP_ALPHA > 0:\n",
    "                mixed_x, y_a, y_b, lam = mixup_data(x, y, alpha=MIXUP_ALPHA, device=DEVICE)\n",
    "            else:\n",
    "                mixed_x, y_a, y_b, lam = x, y, y, 1.0\n",
    "\n",
    "            optimizer.zero_grad()\n",
    "            # Use Automatic Mixed Precision (AMP)\n",
    "            with torch.cuda.amp.autocast(enabled=USE_AMP):\n",
    "                logits = model(mixed_x)\n",
    "                # Calculate loss with mixed labels\n",
    "                loss = lam * criterion(logits, y_a) + (1 - lam) * criterion(logits, y_b)\n",
    "                \n",
    "            # Backpropagation\n",
    "            scaler.scale(loss).backward()\n",
    "            scaler.unscale_(optimizer) # Unscale gradients before clipping\n",
    "            torch.nn.utils.clip_grad_norm_(model.parameters(), max_norm=1.0)\n",
    "            scaler.step(optimizer)\n",
    "            scaler.update()\n",
    "\n",
    "            # Calculate accuracy on the original (non-mixed) labels\n",
    "            acc1 = accuracy_topk(logits.detach().cpu(), y.detach().cpu(), topk=(1,))[0]\n",
    "            running_loss += loss.item() * batch_size\n",
    "            running_acc += acc1 * batch_size / 100.0\n",
    "            total_samples += batch_size\n",
    "            pbar.set_postfix(loss=running_loss / total_samples, acc=(running_acc / total_samples * 100.0))\n",
    "\n",
    "        avg_train_loss = running_loss / len(train_dataset)\n",
    "        avg_train_acc = running_acc / len(train_dataset) * 100.0\n",
    "\n",
    "        # --- Validation Phase ---\n",
    "        model.eval()\n",
    "        val_loss = 0.0\n",
    "        val_acc = 0.0\n",
    "        val_top5 = 0.0\n",
    "        with torch.no_grad():\n",
    "            for x, y in tqdm(val_loader, desc=\"Validation\"):\n",
    "                x = x.to(DEVICE); y = y.to(DEVICE)\n",
    "                with torch.cuda.amp.autocast(enabled=USE_AMP):\n",
    "                    logits = model(x)\n",
    "                    loss = criterion(logits, y)\n",
    "                    \n",
    "                val_loss += loss.item() * x.size(0)\n",
    "                acc1, acc5 = accuracy_topk(logits.detach().cpu(), y.detach().cpu(), topk=(1,5))\n",
    "                val_acc += acc1 * x.size(0) / 100.0\n",
    "                val_top5 += acc5 * x.size(0) / 100.0\n",
    "                \n",
    "        avg_val_loss = val_loss / len(val_dataset) if len(val_dataset) > 0 else 0.0\n",
    "        avg_val_acc = val_acc / len(val_dataset) * 100.0 if len(val_dataset) > 0 else 0.0\n",
    "        avg_val_top5 = val_top5 / len(val_dataset) * 100.0 if len(val_dataset) > 0 else 0.0\n",
    "\n",
    "        # Step the learning rate scheduler\n",
    "        scheduler.step()\n",
    "\n",
    "        print(f\"Epoch {epoch+1}/{EPOCHS} | Train Loss {avg_train_loss:.4f} Acc {avg_train_acc:.2f}% | Val Loss {avg_val_loss:.4f} Acc {avg_val_acc:.2f}% Top5 {avg_val_top5:.2f}%\")\n",
    "\n",
    "        # Log history\n",
    "        train_history['epoch'].append(epoch+1)\n",
    "        train_history['train_loss'].append(avg_train_loss)\n",
    "        train_history['train_acc'].append(avg_train_acc)\n",
    "        train_history['val_loss'].append(avg_val_loss)\n",
    "        train_history['val_acc'].append(avg_val_acc)\n",
    "        train_history['val_top5'].append(avg_val_top5)\n",
    "\n",
    "        # Save the best model based on validation accuracy\n",
    "        if avg_val_acc > best_val:\n",
    "            best_val = avg_val_acc\n",
    "            # 💡 Save to the new 'outputs' directory\n",
    "            save_path = os.path.join(OUTPUT_DIR, f\"best_stgcn_{NUM_CLASSES}.pth\")\n",
    "            torch.save(model.state_dict(), save_path)\n",
    "            print(f\"✅ New best model saved: {best_val:.2f}%\")\n",
    "\n",
    "    print(f\"Training complete. Best val acc: {best_val:.2f}%\")\n",
    "\n",
    "    # --- 7. Save History & Plots ---\n",
    "    # 💡 Save to the new 'outputs' directory\n",
    "    df = pd.DataFrame(train_history)\n",
    "    df.to_csv(os.path.join(OUTPUT_DIR, 'training_log.csv'), index=False)\n",
    "    print(f\"Training log saved to {os.path.join(OUTPUT_DIR, 'training_log.csv')}\")\n",
    "\n",
    "    # Plot curves\n",
    "    plt.figure(figsize=(12,5))\n",
    "    plt.subplot(1,2,1)\n",
    "    plt.plot(df['epoch'], df['train_loss'], label='Train Loss')\n",
    "    plt.plot(df['epoch'], df['val_loss'], label='Val Loss')\n",
    "    plt.xlabel('Epoch'); plt.ylabel('Loss'); plt.legend(); plt.title('Loss Curve')\n",
    "    plt.subplot(1,2,2)\n",
    "    plt.plot(df['epoch'], df['train_acc'], label='Train Acc')\n",
    "    plt.plot(df['epoch'], df['val_acc'], label='Val Acc')\n",
    "    plt.xlabel('Epoch'); plt.ylabel('Accuracy (%)'); plt.legend(); plt.title('Accuracy Curve')\n",
    "    # 💡 Save to the new 'outputs' directory\n",
    "    plt.savefig(os.path.join(OUTPUT_DIR, 'training_curves.png'))\n",
    "    plt.close()\n",
    "    print(f\"Training curves saved to {os.path.join(OUTPUT_DIR, 'training_curves.png')}\")\n",
    "\n",
    "    # --- 8. Final Test ---\n",
    "    print(\"Loading best model for final testing...\")\n",
    "    # 💡 Load from the new 'outputs' directory\n",
    "    save_path = os.path.join(OUTPUT_DIR, f\"best_stgcn_{NUM_CLASSES}.pth\")\n",
    "    model.load_state_dict(torch.load(save_path, map_location=DEVICE))\n",
    "    model.eval()\n",
    "    test_acc = 0.0\n",
    "    test_top5 = 0.0\n",
    "    with torch.no_grad():\n",
    "        for x, y in tqdm(test_loader, desc=\"Testing\"):\n",
    "            x = x.to(DEVICE); y = y.to(DEVICE)\n",
    "            with torch.cuda.amp.autocast(enabled=USE_AMP):\n",
    "                logits = model(x)\n",
    "            acc1, acc5 = accuracy_topk(logits.detach().cpu(), y.detach().cpu(), topk=(1,5))\n",
    "            test_acc += acc1 * x.size(0) / 100.0\n",
    "            test_top5 += acc5 * x.size(0) / 100.0\n",
    "            \n",
    "    avg_test_acc = test_acc / len(test_dataset) * 100.0 if len(test_dataset) > 0 else 0.0\n",
    "    avg_test_top5 = test_top5 / len(test_dataset) * 100.0 if len(test_dataset) > 0 else 0.0\n",
    "    \n",
    "    print(f\"--- 🏁 Final Test Accuracy ---\")\n",
    "    print(f\"Top-1: {avg_test_acc:.2f}%\")\n",
    "    print(f\"Top-5: {avg_test_top5:.2f}%\")"
   ]
  },
  {
   "cell_type": "code",
   "execution_count": null,
   "metadata": {
    "execution": {
     "iopub.execute_input": "2025-10-28T07:41:46.323945Z",
     "iopub.status.busy": "2025-10-28T07:41:46.323224Z",
     "iopub.status.idle": "2025-10-28T09:14:37.757562Z",
     "shell.execute_reply": "2025-10-28T09:14:37.756586Z",
     "shell.execute_reply.started": "2025-10-28T07:41:46.323918Z"
    },
    "trusted": true
   },
   "outputs": [
    {
     "name": "stdout",
     "output_type": "stream",
     "text": [
      "✅ Created 'train' split with 1442 samples.\n",
      "✅ Created 'val' split with 338 samples.\n",
      "✅ Created 'test' split with 258 samples.\n",
      "Model has 1209376 trainable parameters.\n"
     ]
    },
    {
     "name": "stderr",
     "output_type": "stream",
     "text": [
      "Epoch 1/200 Train: 100%|██████████| 46/46 [00:22<00:00,  2.02it/s, acc=0.832, loss=4.62]\n",
      "Validation: 100%|██████████| 11/11 [00:04<00:00,  2.22it/s]\n"
     ]
    },
    {
     "name": "stdout",
     "output_type": "stream",
     "text": [
      "Epoch 1/200 | Train Loss 4.6159 Acc 0.83% | Val Loss 4.4655 Acc 2.66% Top5 12.13%\n",
      "✅ New best model: 2.66%\n"
     ]
    },
    {
     "name": "stderr",
     "output_type": "stream",
     "text": [
      "Epoch 2/200 Train: 100%|██████████| 46/46 [00:23<00:00,  1.98it/s, acc=2.43, loss=4.38]\n",
      "Validation: 100%|██████████| 11/11 [00:04<00:00,  2.28it/s]\n"
     ]
    },
    {
     "name": "stdout",
     "output_type": "stream",
     "text": [
      "Epoch 2/200 | Train Loss 4.3758 Acc 2.43% | Val Loss 4.2024 Acc 5.33% Top5 18.34%\n",
      "✅ New best model: 5.33%\n"
     ]
    },
    {
     "name": "stderr",
     "output_type": "stream",
     "text": [
      "Epoch 3/200 Train: 100%|██████████| 46/46 [00:22<00:00,  2.00it/s, acc=4.51, loss=4.25]\n",
      "Validation: 100%|██████████| 11/11 [00:04<00:00,  2.30it/s]\n"
     ]
    },
    {
     "name": "stdout",
     "output_type": "stream",
     "text": [
      "Epoch 3/200 | Train Loss 4.2510 Acc 4.51% | Val Loss 4.1183 Acc 7.40% Top5 22.49%\n",
      "✅ New best model: 7.40%\n"
     ]
    },
    {
     "name": "stderr",
     "output_type": "stream",
     "text": [
      "Epoch 4/200 Train: 100%|██████████| 46/46 [00:22<00:00,  2.07it/s, acc=4.23, loss=4.07]\n",
      "Validation: 100%|██████████| 11/11 [00:04<00:00,  2.20it/s]\n"
     ]
    },
    {
     "name": "stdout",
     "output_type": "stream",
     "text": [
      "Epoch 4/200 | Train Loss 4.0749 Acc 4.23% | Val Loss 3.9360 Acc 9.47% Top5 30.77%\n",
      "✅ New best model: 9.47%\n"
     ]
    },
    {
     "name": "stderr",
     "output_type": "stream",
     "text": [
      "Epoch 5/200 Train: 100%|██████████| 46/46 [00:23<00:00,  1.97it/s, acc=6.66, loss=3.99]\n",
      "Validation: 100%|██████████| 11/11 [00:04<00:00,  2.23it/s]\n"
     ]
    },
    {
     "name": "stdout",
     "output_type": "stream",
     "text": [
      "Epoch 5/200 | Train Loss 3.9904 Acc 6.66% | Val Loss 3.8397 Acc 9.76% Top5 35.80%\n",
      "✅ New best model: 9.76%\n"
     ]
    },
    {
     "name": "stderr",
     "output_type": "stream",
     "text": [
      "Epoch 6/200 Train: 100%|██████████| 46/46 [00:22<00:00,  2.04it/s, acc=7.21, loss=3.96]\n",
      "Validation: 100%|██████████| 11/11 [00:04<00:00,  2.32it/s]\n"
     ]
    },
    {
     "name": "stdout",
     "output_type": "stream",
     "text": [
      "Epoch 6/200 | Train Loss 3.9587 Acc 7.21% | Val Loss 3.8081 Acc 13.91% Top5 36.69%\n",
      "✅ New best model: 13.91%\n"
     ]
    },
    {
     "name": "stderr",
     "output_type": "stream",
     "text": [
      "Epoch 7/200 Train: 100%|██████████| 46/46 [00:22<00:00,  2.05it/s, acc=5.89, loss=3.81]\n",
      "Validation: 100%|██████████| 11/11 [00:04<00:00,  2.28it/s]\n"
     ]
    },
    {
     "name": "stdout",
     "output_type": "stream",
     "text": [
      "Epoch 7/200 | Train Loss 3.8121 Acc 5.89% | Val Loss 3.7181 Acc 16.27% Top5 42.60%\n",
      "✅ New best model: 16.27%\n"
     ]
    },
    {
     "name": "stderr",
     "output_type": "stream",
     "text": [
      "Epoch 8/200 Train: 100%|██████████| 46/46 [00:22<00:00,  2.04it/s, acc=7.35, loss=3.81]\n",
      "Validation: 100%|██████████| 11/11 [00:04<00:00,  2.24it/s]\n"
     ]
    },
    {
     "name": "stdout",
     "output_type": "stream",
     "text": [
      "Epoch 8/200 | Train Loss 3.8071 Acc 7.35% | Val Loss 3.7156 Acc 15.38% Top5 42.60%\n"
     ]
    },
    {
     "name": "stderr",
     "output_type": "stream",
     "text": [
      "Epoch 9/200 Train: 100%|██████████| 46/46 [00:22<00:00,  2.05it/s, acc=12.4, loss=3.62]\n",
      "Validation: 100%|██████████| 11/11 [00:04<00:00,  2.29it/s]\n"
     ]
    },
    {
     "name": "stdout",
     "output_type": "stream",
     "text": [
      "Epoch 9/200 | Train Loss 3.6167 Acc 12.41% | Val Loss 3.5291 Acc 20.71% Top5 48.82%\n",
      "✅ New best model: 20.71%\n"
     ]
    },
    {
     "name": "stderr",
     "output_type": "stream",
     "text": [
      "Epoch 10/200 Train: 100%|██████████| 46/46 [00:23<00:00,  1.98it/s, acc=13.7, loss=3.61]\n",
      "Validation: 100%|██████████| 11/11 [00:04<00:00,  2.22it/s]\n"
     ]
    },
    {
     "name": "stdout",
     "output_type": "stream",
     "text": [
      "Epoch 10/200 | Train Loss 3.6091 Acc 13.66% | Val Loss 3.4699 Acc 23.37% Top5 54.14%\n",
      "✅ New best model: 23.37%\n"
     ]
    },
    {
     "name": "stderr",
     "output_type": "stream",
     "text": [
      "Epoch 11/200 Train: 100%|██████████| 46/46 [00:22<00:00,  2.02it/s, acc=14.5, loss=3.47]\n",
      "Validation: 100%|██████████| 11/11 [00:04<00:00,  2.23it/s]\n"
     ]
    },
    {
     "name": "stdout",
     "output_type": "stream",
     "text": [
      "Epoch 11/200 | Train Loss 3.4720 Acc 14.49% | Val Loss 3.4580 Acc 25.74% Top5 53.55%\n",
      "✅ New best model: 25.74%\n"
     ]
    },
    {
     "name": "stderr",
     "output_type": "stream",
     "text": [
      "Epoch 12/200 Train: 100%|██████████| 46/46 [00:22<00:00,  2.05it/s, acc=16.8, loss=3.39]\n",
      "Validation: 100%|██████████| 11/11 [00:04<00:00,  2.21it/s]\n"
     ]
    },
    {
     "name": "stdout",
     "output_type": "stream",
     "text": [
      "Epoch 12/200 | Train Loss 3.3922 Acc 16.78% | Val Loss 3.3368 Acc 29.88% Top5 55.62%\n",
      "✅ New best model: 29.88%\n"
     ]
    },
    {
     "name": "stderr",
     "output_type": "stream",
     "text": [
      "Epoch 13/200 Train: 100%|██████████| 46/46 [00:22<00:00,  2.02it/s, acc=17.6, loss=3.4] \n",
      "Validation: 100%|██████████| 11/11 [00:05<00:00,  2.15it/s]\n"
     ]
    },
    {
     "name": "stdout",
     "output_type": "stream",
     "text": [
      "Epoch 13/200 | Train Loss 3.3969 Acc 17.61% | Val Loss 3.3319 Acc 23.96% Top5 57.69%\n"
     ]
    },
    {
     "name": "stderr",
     "output_type": "stream",
     "text": [
      "Epoch 14/200 Train: 100%|██████████| 46/46 [00:23<00:00,  1.96it/s, acc=17.1, loss=3.35]\n",
      "Validation: 100%|██████████| 11/11 [00:04<00:00,  2.29it/s]\n"
     ]
    },
    {
     "name": "stdout",
     "output_type": "stream",
     "text": [
      "Epoch 14/200 | Train Loss 3.3470 Acc 17.06% | Val Loss 3.2094 Acc 30.47% Top5 59.47%\n",
      "✅ New best model: 30.47%\n"
     ]
    },
    {
     "name": "stderr",
     "output_type": "stream",
     "text": [
      "Epoch 15/200 Train: 100%|██████████| 46/46 [00:23<00:00,  2.00it/s, acc=22.4, loss=3.18]\n",
      "Validation: 100%|██████████| 11/11 [00:04<00:00,  2.26it/s]\n"
     ]
    },
    {
     "name": "stdout",
     "output_type": "stream",
     "text": [
      "Epoch 15/200 | Train Loss 3.1810 Acc 22.40% | Val Loss 3.1832 Acc 29.29% Top5 65.38%\n"
     ]
    },
    {
     "name": "stderr",
     "output_type": "stream",
     "text": [
      "Epoch 16/200 Train: 100%|██████████| 46/46 [00:22<00:00,  2.01it/s, acc=21.9, loss=3.06]\n",
      "Validation: 100%|██████████| 11/11 [00:04<00:00,  2.27it/s]\n"
     ]
    },
    {
     "name": "stdout",
     "output_type": "stream",
     "text": [
      "Epoch 16/200 | Train Loss 3.0603 Acc 21.91% | Val Loss 2.9824 Acc 37.87% Top5 68.05%\n",
      "✅ New best model: 37.87%\n"
     ]
    },
    {
     "name": "stderr",
     "output_type": "stream",
     "text": [
      "Epoch 17/200 Train: 100%|██████████| 46/46 [00:22<00:00,  2.06it/s, acc=21.5, loss=3.02]\n",
      "Validation: 100%|██████████| 11/11 [00:05<00:00,  2.16it/s]\n"
     ]
    },
    {
     "name": "stdout",
     "output_type": "stream",
     "text": [
      "Epoch 17/200 | Train Loss 3.0223 Acc 21.50% | Val Loss 2.9670 Acc 35.21% Top5 68.64%\n"
     ]
    },
    {
     "name": "stderr",
     "output_type": "stream",
     "text": [
      "Epoch 18/200 Train: 100%|██████████| 46/46 [00:22<00:00,  2.06it/s, acc=25.1, loss=2.96]\n",
      "Validation: 100%|██████████| 11/11 [00:04<00:00,  2.24it/s]\n"
     ]
    },
    {
     "name": "stdout",
     "output_type": "stream",
     "text": [
      "Epoch 18/200 | Train Loss 2.9609 Acc 25.10% | Val Loss 2.8612 Acc 40.24% Top5 71.89%\n",
      "✅ New best model: 40.24%\n"
     ]
    },
    {
     "name": "stderr",
     "output_type": "stream",
     "text": [
      "Epoch 19/200 Train: 100%|██████████| 46/46 [00:23<00:00,  1.99it/s, acc=23.1, loss=2.84]\n",
      "Validation: 100%|██████████| 11/11 [00:04<00:00,  2.31it/s]\n"
     ]
    },
    {
     "name": "stdout",
     "output_type": "stream",
     "text": [
      "Epoch 19/200 | Train Loss 2.8391 Acc 23.09% | Val Loss 2.7791 Acc 41.12% Top5 74.56%\n",
      "✅ New best model: 41.12%\n"
     ]
    },
    {
     "name": "stderr",
     "output_type": "stream",
     "text": [
      "Epoch 20/200 Train: 100%|██████████| 46/46 [00:22<00:00,  2.02it/s, acc=25.2, loss=2.74]\n",
      "Validation: 100%|██████████| 11/11 [00:04<00:00,  2.25it/s]\n"
     ]
    },
    {
     "name": "stdout",
     "output_type": "stream",
     "text": [
      "Epoch 20/200 | Train Loss 2.7423 Acc 25.24% | Val Loss 2.6919 Acc 44.67% Top5 75.15%\n",
      "✅ New best model: 44.67%\n"
     ]
    },
    {
     "name": "stderr",
     "output_type": "stream",
     "text": [
      "Epoch 21/200 Train: 100%|██████████| 46/46 [00:22<00:00,  2.08it/s, acc=30.5, loss=2.72]\n",
      "Validation: 100%|██████████| 11/11 [00:04<00:00,  2.26it/s]\n"
     ]
    },
    {
     "name": "stdout",
     "output_type": "stream",
     "text": [
      "Epoch 21/200 | Train Loss 2.7182 Acc 30.51% | Val Loss 2.6092 Acc 45.86% Top5 77.22%\n",
      "✅ New best model: 45.86%\n"
     ]
    },
    {
     "name": "stderr",
     "output_type": "stream",
     "text": [
      "Epoch 22/200 Train: 100%|██████████| 46/46 [00:22<00:00,  2.02it/s, acc=34.5, loss=2.52]\n",
      "Validation: 100%|██████████| 11/11 [00:04<00:00,  2.22it/s]\n"
     ]
    },
    {
     "name": "stdout",
     "output_type": "stream",
     "text": [
      "Epoch 22/200 | Train Loss 2.5243 Acc 34.54% | Val Loss 2.4898 Acc 50.89% Top5 78.70%\n",
      "✅ New best model: 50.89%\n"
     ]
    },
    {
     "name": "stderr",
     "output_type": "stream",
     "text": [
      "Epoch 23/200 Train: 100%|██████████| 46/46 [00:23<00:00,  1.97it/s, acc=37.7, loss=2.6] \n",
      "Validation: 100%|██████████| 11/11 [00:04<00:00,  2.28it/s]\n"
     ]
    },
    {
     "name": "stdout",
     "output_type": "stream",
     "text": [
      "Epoch 23/200 | Train Loss 2.5984 Acc 37.73% | Val Loss 2.4680 Acc 51.78% Top5 80.77%\n",
      "✅ New best model: 51.78%\n"
     ]
    },
    {
     "name": "stderr",
     "output_type": "stream",
     "text": [
      "Epoch 24/200 Train: 100%|██████████| 46/46 [00:22<00:00,  2.04it/s, acc=28.8, loss=2.42]\n",
      "Validation: 100%|██████████| 11/11 [00:04<00:00,  2.25it/s]\n"
     ]
    },
    {
     "name": "stdout",
     "output_type": "stream",
     "text": [
      "Epoch 24/200 | Train Loss 2.4241 Acc 28.78% | Val Loss 2.4034 Acc 53.55% Top5 79.88%\n",
      "✅ New best model: 53.55%\n"
     ]
    },
    {
     "name": "stderr",
     "output_type": "stream",
     "text": [
      "Epoch 25/200 Train: 100%|██████████| 46/46 [00:22<00:00,  2.08it/s, acc=35.8, loss=2.36]\n",
      "Validation: 100%|██████████| 11/11 [00:04<00:00,  2.21it/s]\n"
     ]
    },
    {
     "name": "stdout",
     "output_type": "stream",
     "text": [
      "Epoch 25/200 | Train Loss 2.3586 Acc 35.78% | Val Loss 2.4108 Acc 51.48% Top5 81.95%\n"
     ]
    },
    {
     "name": "stderr",
     "output_type": "stream",
     "text": [
      "Epoch 26/200 Train: 100%|██████████| 46/46 [00:22<00:00,  2.01it/s, acc=46.5, loss=2.24]\n",
      "Validation: 100%|██████████| 11/11 [00:04<00:00,  2.23it/s]\n"
     ]
    },
    {
     "name": "stdout",
     "output_type": "stream",
     "text": [
      "Epoch 26/200 | Train Loss 2.2388 Acc 46.46% | Val Loss 2.3309 Acc 51.18% Top5 83.73%\n"
     ]
    },
    {
     "name": "stderr",
     "output_type": "stream",
     "text": [
      "Epoch 27/200 Train: 100%|██████████| 46/46 [00:22<00:00,  2.04it/s, acc=45, loss=2.2]   \n",
      "Validation: 100%|██████████| 11/11 [00:04<00:00,  2.26it/s]\n"
     ]
    },
    {
     "name": "stdout",
     "output_type": "stream",
     "text": [
      "Epoch 27/200 | Train Loss 2.2029 Acc 45.01% | Val Loss 2.2633 Acc 58.58% Top5 83.73%\n",
      "✅ New best model: 58.58%\n"
     ]
    },
    {
     "name": "stderr",
     "output_type": "stream",
     "text": [
      "Epoch 28/200 Train: 100%|██████████| 46/46 [00:22<00:00,  2.04it/s, acc=39, loss=2.29]  \n",
      "Validation: 100%|██████████| 11/11 [00:04<00:00,  2.27it/s]\n"
     ]
    },
    {
     "name": "stdout",
     "output_type": "stream",
     "text": [
      "Epoch 28/200 | Train Loss 2.2946 Acc 39.04% | Val Loss 2.3283 Acc 52.66% Top5 83.43%\n"
     ]
    },
    {
     "name": "stderr",
     "output_type": "stream",
     "text": [
      "Epoch 29/200 Train: 100%|██████████| 46/46 [00:22<00:00,  2.05it/s, acc=43.3, loss=2.18]\n",
      "Validation: 100%|██████████| 11/11 [00:04<00:00,  2.21it/s]\n"
     ]
    },
    {
     "name": "stdout",
     "output_type": "stream",
     "text": [
      "Epoch 29/200 | Train Loss 2.1756 Acc 43.27% | Val Loss 2.2779 Acc 57.10% Top5 84.62%\n"
     ]
    },
    {
     "name": "stderr",
     "output_type": "stream",
     "text": [
      "Epoch 30/200 Train: 100%|██████████| 46/46 [00:23<00:00,  1.98it/s, acc=39.9, loss=2.32]\n",
      "Validation: 100%|██████████| 11/11 [00:05<00:00,  2.18it/s]\n"
     ]
    },
    {
     "name": "stdout",
     "output_type": "stream",
     "text": [
      "Epoch 30/200 | Train Loss 2.3207 Acc 39.94% | Val Loss 2.2914 Acc 54.73% Top5 84.91%\n"
     ]
    },
    {
     "name": "stderr",
     "output_type": "stream",
     "text": [
      "Epoch 31/200 Train: 100%|██████████| 46/46 [00:22<00:00,  2.03it/s, acc=43.8, loss=2.19]\n",
      "Validation: 100%|██████████| 11/11 [00:04<00:00,  2.22it/s]\n"
     ]
    },
    {
     "name": "stdout",
     "output_type": "stream",
     "text": [
      "Epoch 31/200 | Train Loss 2.1889 Acc 43.83% | Val Loss 2.2432 Acc 57.69% Top5 84.62%\n"
     ]
    },
    {
     "name": "stderr",
     "output_type": "stream",
     "text": [
      "Epoch 32/200 Train: 100%|██████████| 46/46 [00:22<00:00,  2.06it/s, acc=42.1, loss=2.12]\n",
      "Validation: 100%|██████████| 11/11 [00:04<00:00,  2.29it/s]\n"
     ]
    },
    {
     "name": "stdout",
     "output_type": "stream",
     "text": [
      "Epoch 32/200 | Train Loss 2.1229 Acc 42.09% | Val Loss 2.2714 Acc 56.21% Top5 84.91%\n"
     ]
    },
    {
     "name": "stderr",
     "output_type": "stream",
     "text": [
      "Epoch 33/200 Train: 100%|██████████| 46/46 [00:22<00:00,  2.04it/s, acc=28.8, loss=2.16]\n",
      "Validation: 100%|██████████| 11/11 [00:04<00:00,  2.26it/s]\n"
     ]
    },
    {
     "name": "stdout",
     "output_type": "stream",
     "text": [
      "Epoch 33/200 | Train Loss 2.1570 Acc 28.78% | Val Loss 2.1294 Acc 62.13% Top5 87.87%\n",
      "✅ New best model: 62.13%\n"
     ]
    },
    {
     "name": "stderr",
     "output_type": "stream",
     "text": [
      "Epoch 34/200 Train: 100%|██████████| 46/46 [00:22<00:00,  2.03it/s, acc=57.8, loss=2.02]\n",
      "Validation: 100%|██████████| 11/11 [00:04<00:00,  2.22it/s]\n"
     ]
    },
    {
     "name": "stdout",
     "output_type": "stream",
     "text": [
      "Epoch 34/200 | Train Loss 2.0234 Acc 57.84% | Val Loss 2.1799 Acc 60.65% Top5 86.09%\n"
     ]
    },
    {
     "name": "stderr",
     "output_type": "stream",
     "text": [
      "Epoch 35/200 Train: 100%|██████████| 46/46 [00:22<00:00,  2.03it/s, acc=35.2, loss=2.12]\n",
      "Validation: 100%|██████████| 11/11 [00:04<00:00,  2.28it/s]\n"
     ]
    },
    {
     "name": "stdout",
     "output_type": "stream",
     "text": [
      "Epoch 35/200 | Train Loss 2.1240 Acc 35.16% | Val Loss 2.1918 Acc 57.99% Top5 86.09%\n"
     ]
    },
    {
     "name": "stderr",
     "output_type": "stream",
     "text": [
      "Epoch 36/200 Train: 100%|██████████| 46/46 [00:22<00:00,  2.03it/s, acc=57.6, loss=1.97]\n",
      "Validation: 100%|██████████| 11/11 [00:04<00:00,  2.29it/s]\n"
     ]
    },
    {
     "name": "stdout",
     "output_type": "stream",
     "text": [
      "Epoch 36/200 | Train Loss 1.9654 Acc 57.56% | Val Loss 2.1675 Acc 59.76% Top5 86.39%\n"
     ]
    },
    {
     "name": "stderr",
     "output_type": "stream",
     "text": [
      "Epoch 37/200 Train: 100%|██████████| 46/46 [00:22<00:00,  2.04it/s, acc=44.5, loss=1.95]\n",
      "Validation: 100%|██████████| 11/11 [00:04<00:00,  2.21it/s]\n"
     ]
    },
    {
     "name": "stdout",
     "output_type": "stream",
     "text": [
      "Epoch 37/200 | Train Loss 1.9484 Acc 44.52% | Val Loss 2.0539 Acc 64.20% Top5 87.87%\n",
      "✅ New best model: 64.20%\n"
     ]
    },
    {
     "name": "stderr",
     "output_type": "stream",
     "text": [
      "Epoch 38/200 Train: 100%|██████████| 46/46 [00:23<00:00,  1.99it/s, acc=54.2, loss=2.07]\n",
      "Validation: 100%|██████████| 11/11 [00:04<00:00,  2.22it/s]\n"
     ]
    },
    {
     "name": "stdout",
     "output_type": "stream",
     "text": [
      "Epoch 38/200 | Train Loss 2.0678 Acc 54.23% | Val Loss 2.1009 Acc 60.65% Top5 88.17%\n"
     ]
    },
    {
     "name": "stderr",
     "output_type": "stream",
     "text": [
      "Epoch 39/200 Train: 100%|██████████| 46/46 [00:22<00:00,  2.03it/s, acc=42.2, loss=1.99]\n",
      "Validation: 100%|██████████| 11/11 [00:04<00:00,  2.28it/s]\n"
     ]
    },
    {
     "name": "stdout",
     "output_type": "stream",
     "text": [
      "Epoch 39/200 | Train Loss 1.9936 Acc 42.16% | Val Loss 2.0777 Acc 64.20% Top5 89.05%\n",
      "✅ New best model: 64.20%\n"
     ]
    },
    {
     "name": "stderr",
     "output_type": "stream",
     "text": [
      "Epoch 40/200 Train: 100%|██████████| 46/46 [00:22<00:00,  2.03it/s, acc=50, loss=2.06]  \n",
      "Validation: 100%|██████████| 11/11 [00:04<00:00,  2.30it/s]\n"
     ]
    },
    {
     "name": "stdout",
     "output_type": "stream",
     "text": [
      "Epoch 40/200 | Train Loss 2.0591 Acc 50.00% | Val Loss 2.0282 Acc 65.98% Top5 88.17%\n",
      "✅ New best model: 65.98%\n"
     ]
    },
    {
     "name": "stderr",
     "output_type": "stream",
     "text": [
      "Epoch 41/200 Train: 100%|██████████| 46/46 [00:22<00:00,  2.01it/s, acc=35.6, loss=2.03]\n",
      "Validation: 100%|██████████| 11/11 [00:04<00:00,  2.22it/s]\n"
     ]
    },
    {
     "name": "stdout",
     "output_type": "stream",
     "text": [
      "Epoch 41/200 | Train Loss 2.0258 Acc 35.64% | Val Loss 2.0771 Acc 62.72% Top5 87.28%\n"
     ]
    },
    {
     "name": "stderr",
     "output_type": "stream",
     "text": [
      "Epoch 42/200 Train: 100%|██████████| 46/46 [00:22<00:00,  2.02it/s, acc=39.5, loss=2.21]\n",
      "Validation: 100%|██████████| 11/11 [00:05<00:00,  2.15it/s]\n"
     ]
    },
    {
     "name": "stdout",
     "output_type": "stream",
     "text": [
      "Epoch 42/200 | Train Loss 2.2073 Acc 39.53% | Val Loss 1.9980 Acc 65.68% Top5 88.46%\n"
     ]
    },
    {
     "name": "stderr",
     "output_type": "stream",
     "text": [
      "Epoch 43/200 Train: 100%|██████████| 46/46 [00:22<00:00,  2.04it/s, acc=49.9, loss=1.87]\n",
      "Validation: 100%|██████████| 11/11 [00:04<00:00,  2.26it/s]\n"
     ]
    },
    {
     "name": "stdout",
     "output_type": "stream",
     "text": [
      "Epoch 43/200 | Train Loss 1.8689 Acc 49.86% | Val Loss 2.0014 Acc 64.79% Top5 89.64%\n"
     ]
    },
    {
     "name": "stderr",
     "output_type": "stream",
     "text": [
      "Epoch 44/200 Train: 100%|██████████| 46/46 [00:23<00:00,  1.98it/s, acc=50.7, loss=1.87]\n",
      "Validation: 100%|██████████| 11/11 [00:04<00:00,  2.21it/s]\n"
     ]
    },
    {
     "name": "stdout",
     "output_type": "stream",
     "text": [
      "Epoch 44/200 | Train Loss 1.8729 Acc 50.69% | Val Loss 2.0069 Acc 66.57% Top5 87.57%\n",
      "✅ New best model: 66.57%\n"
     ]
    },
    {
     "name": "stderr",
     "output_type": "stream",
     "text": [
      "Epoch 45/200 Train: 100%|██████████| 46/46 [00:24<00:00,  1.91it/s, acc=44.1, loss=1.76]\n",
      "Validation: 100%|██████████| 11/11 [00:05<00:00,  2.17it/s]\n"
     ]
    },
    {
     "name": "stdout",
     "output_type": "stream",
     "text": [
      "Epoch 45/200 | Train Loss 1.7570 Acc 44.11% | Val Loss 2.0132 Acc 66.57% Top5 89.94%\n"
     ]
    },
    {
     "name": "stderr",
     "output_type": "stream",
     "text": [
      "Epoch 46/200 Train: 100%|██████████| 46/46 [00:23<00:00,  1.99it/s, acc=43.8, loss=1.85]\n",
      "Validation: 100%|██████████| 11/11 [00:04<00:00,  2.22it/s]\n"
     ]
    },
    {
     "name": "stdout",
     "output_type": "stream",
     "text": [
      "Epoch 46/200 | Train Loss 1.8509 Acc 43.83% | Val Loss 2.0101 Acc 65.98% Top5 88.46%\n"
     ]
    },
    {
     "name": "stderr",
     "output_type": "stream",
     "text": [
      "Epoch 47/200 Train: 100%|██████████| 46/46 [00:22<00:00,  2.03it/s, acc=53.7, loss=1.91]\n",
      "Validation: 100%|██████████| 11/11 [00:04<00:00,  2.29it/s]\n"
     ]
    },
    {
     "name": "stdout",
     "output_type": "stream",
     "text": [
      "Epoch 47/200 | Train Loss 1.9140 Acc 53.74% | Val Loss 1.9189 Acc 68.93% Top5 90.53%\n",
      "✅ New best model: 68.93%\n"
     ]
    },
    {
     "name": "stderr",
     "output_type": "stream",
     "text": [
      "Epoch 48/200 Train: 100%|██████████| 46/46 [00:22<00:00,  2.03it/s, acc=48.7, loss=1.78]\n",
      "Validation: 100%|██████████| 11/11 [00:04<00:00,  2.20it/s]\n"
     ]
    },
    {
     "name": "stdout",
     "output_type": "stream",
     "text": [
      "Epoch 48/200 | Train Loss 1.7811 Acc 48.68% | Val Loss 2.0562 Acc 62.43% Top5 88.46%\n"
     ]
    },
    {
     "name": "stderr",
     "output_type": "stream",
     "text": [
      "Epoch 49/200 Train: 100%|██████████| 46/46 [00:22<00:00,  2.04it/s, acc=44.7, loss=1.86]\n",
      "Validation: 100%|██████████| 11/11 [00:04<00:00,  2.23it/s]\n"
     ]
    },
    {
     "name": "stdout",
     "output_type": "stream",
     "text": [
      "Epoch 49/200 | Train Loss 1.8591 Acc 44.66% | Val Loss 1.9788 Acc 68.05% Top5 88.76%\n"
     ]
    },
    {
     "name": "stderr",
     "output_type": "stream",
     "text": [
      "Epoch 50/200 Train: 100%|██████████| 46/46 [00:22<00:00,  2.01it/s, acc=44.3, loss=1.86]\n",
      "Validation: 100%|██████████| 11/11 [00:04<00:00,  2.24it/s]\n"
     ]
    },
    {
     "name": "stdout",
     "output_type": "stream",
     "text": [
      "Epoch 50/200 | Train Loss 1.8632 Acc 44.31% | Val Loss 2.0537 Acc 64.79% Top5 86.39%\n"
     ]
    },
    {
     "name": "stderr",
     "output_type": "stream",
     "text": [
      "Epoch 51/200 Train: 100%|██████████| 46/46 [00:23<00:00,  1.98it/s, acc=50.8, loss=1.72]\n",
      "Validation: 100%|██████████| 11/11 [00:04<00:00,  2.21it/s]\n"
     ]
    },
    {
     "name": "stdout",
     "output_type": "stream",
     "text": [
      "Epoch 51/200 | Train Loss 1.7242 Acc 50.76% | Val Loss 2.0052 Acc 65.98% Top5 87.28%\n"
     ]
    },
    {
     "name": "stderr",
     "output_type": "stream",
     "text": [
      "Epoch 52/200 Train: 100%|██████████| 46/46 [00:22<00:00,  2.03it/s, acc=39.1, loss=2]   \n",
      "Validation: 100%|██████████| 11/11 [00:05<00:00,  2.16it/s]\n"
     ]
    },
    {
     "name": "stdout",
     "output_type": "stream",
     "text": [
      "Epoch 52/200 | Train Loss 1.9980 Acc 39.11% | Val Loss 2.0639 Acc 63.02% Top5 86.39%\n"
     ]
    },
    {
     "name": "stderr",
     "output_type": "stream",
     "text": [
      "Epoch 53/200 Train: 100%|██████████| 46/46 [00:22<00:00,  2.03it/s, acc=55.8, loss=1.72]\n",
      "Validation: 100%|██████████| 11/11 [00:04<00:00,  2.22it/s]\n"
     ]
    },
    {
     "name": "stdout",
     "output_type": "stream",
     "text": [
      "Epoch 53/200 | Train Loss 1.7236 Acc 55.83% | Val Loss 1.9438 Acc 68.34% Top5 88.76%\n"
     ]
    },
    {
     "name": "stderr",
     "output_type": "stream",
     "text": [
      "Epoch 54/200 Train: 100%|██████████| 46/46 [00:23<00:00,  1.99it/s, acc=49.9, loss=1.72]\n",
      "Validation: 100%|██████████| 11/11 [00:04<00:00,  2.23it/s]\n"
     ]
    },
    {
     "name": "stdout",
     "output_type": "stream",
     "text": [
      "Epoch 54/200 | Train Loss 1.7184 Acc 49.86% | Val Loss 2.0506 Acc 64.79% Top5 86.98%\n"
     ]
    },
    {
     "name": "stderr",
     "output_type": "stream",
     "text": [
      "Epoch 55/200 Train: 100%|██████████| 46/46 [00:22<00:00,  2.03it/s, acc=44.9, loss=1.83]\n",
      "Validation: 100%|██████████| 11/11 [00:05<00:00,  2.17it/s]\n"
     ]
    },
    {
     "name": "stdout",
     "output_type": "stream",
     "text": [
      "Epoch 55/200 | Train Loss 1.8308 Acc 44.94% | Val Loss 1.9381 Acc 68.05% Top5 87.87%\n"
     ]
    },
    {
     "name": "stderr",
     "output_type": "stream",
     "text": [
      "Epoch 56/200 Train: 100%|██████████| 46/46 [00:22<00:00,  2.00it/s, acc=52.1, loss=1.68]\n",
      "Validation: 100%|██████████| 11/11 [00:05<00:00,  2.16it/s]\n"
     ]
    },
    {
     "name": "stdout",
     "output_type": "stream",
     "text": [
      "Epoch 56/200 | Train Loss 1.6842 Acc 52.15% | Val Loss 1.9687 Acc 66.27% Top5 87.87%\n"
     ]
    },
    {
     "name": "stderr",
     "output_type": "stream",
     "text": [
      "Epoch 57/200 Train: 100%|██████████| 46/46 [00:22<00:00,  2.02it/s, acc=34, loss=1.75]  \n",
      "Validation: 100%|██████████| 11/11 [00:05<00:00,  2.20it/s]\n"
     ]
    },
    {
     "name": "stdout",
     "output_type": "stream",
     "text": [
      "Epoch 57/200 | Train Loss 1.7480 Acc 34.05% | Val Loss 1.8669 Acc 70.71% Top5 91.42%\n",
      "✅ New best model: 70.71%\n"
     ]
    },
    {
     "name": "stderr",
     "output_type": "stream",
     "text": [
      "Epoch 58/200 Train: 100%|██████████| 46/46 [00:23<00:00,  1.95it/s, acc=51.6, loss=1.78]\n",
      "Validation: 100%|██████████| 11/11 [00:04<00:00,  2.20it/s]\n"
     ]
    },
    {
     "name": "stdout",
     "output_type": "stream",
     "text": [
      "Epoch 58/200 | Train Loss 1.7845 Acc 51.60% | Val Loss 2.0033 Acc 68.34% Top5 87.28%\n"
     ]
    },
    {
     "name": "stderr",
     "output_type": "stream",
     "text": [
      "Epoch 59/200 Train: 100%|██████████| 46/46 [00:22<00:00,  2.00it/s, acc=37.7, loss=1.89]\n",
      "Validation: 100%|██████████| 11/11 [00:04<00:00,  2.21it/s]\n"
     ]
    },
    {
     "name": "stdout",
     "output_type": "stream",
     "text": [
      "Epoch 59/200 | Train Loss 1.8854 Acc 37.73% | Val Loss 1.9310 Acc 66.86% Top5 89.35%\n"
     ]
    },
    {
     "name": "stderr",
     "output_type": "stream",
     "text": [
      "Epoch 60/200 Train: 100%|██████████| 46/46 [00:23<00:00,  1.99it/s, acc=64.4, loss=1.48]\n",
      "Validation: 100%|██████████| 11/11 [00:04<00:00,  2.26it/s]\n"
     ]
    },
    {
     "name": "stdout",
     "output_type": "stream",
     "text": [
      "Epoch 60/200 | Train Loss 1.4819 Acc 64.36% | Val Loss 1.9564 Acc 67.75% Top5 89.64%\n"
     ]
    },
    {
     "name": "stderr",
     "output_type": "stream",
     "text": [
      "Epoch 61/200 Train: 100%|██████████| 46/46 [00:23<00:00,  2.00it/s, acc=47.6, loss=1.77]\n",
      "Validation: 100%|██████████| 11/11 [00:04<00:00,  2.28it/s]\n"
     ]
    },
    {
     "name": "stdout",
     "output_type": "stream",
     "text": [
      "Epoch 61/200 | Train Loss 1.7706 Acc 47.64% | Val Loss 1.9293 Acc 68.93% Top5 90.53%\n"
     ]
    },
    {
     "name": "stderr",
     "output_type": "stream",
     "text": [
      "Epoch 62/200 Train: 100%|██████████| 46/46 [00:23<00:00,  1.94it/s, acc=53.7, loss=1.8] \n",
      "Validation: 100%|██████████| 11/11 [00:05<00:00,  1.94it/s]\n"
     ]
    },
    {
     "name": "stdout",
     "output_type": "stream",
     "text": [
      "Epoch 62/200 | Train Loss 1.8026 Acc 53.68% | Val Loss 1.9681 Acc 69.53% Top5 89.05%\n"
     ]
    },
    {
     "name": "stderr",
     "output_type": "stream",
     "text": [
      "Epoch 63/200 Train: 100%|██████████| 46/46 [00:25<00:00,  1.82it/s, acc=58.7, loss=1.68]\n",
      "Validation: 100%|██████████| 11/11 [00:04<00:00,  2.30it/s]\n"
     ]
    },
    {
     "name": "stdout",
     "output_type": "stream",
     "text": [
      "Epoch 63/200 | Train Loss 1.6788 Acc 58.74% | Val Loss 1.8421 Acc 72.49% Top5 90.83%\n",
      "✅ New best model: 72.49%\n"
     ]
    },
    {
     "name": "stderr",
     "output_type": "stream",
     "text": [
      "Epoch 64/200 Train: 100%|██████████| 46/46 [00:22<00:00,  2.06it/s, acc=59.6, loss=1.77]\n",
      "Validation: 100%|██████████| 11/11 [00:04<00:00,  2.31it/s]\n"
     ]
    },
    {
     "name": "stdout",
     "output_type": "stream",
     "text": [
      "Epoch 64/200 | Train Loss 1.7679 Acc 59.57% | Val Loss 1.9343 Acc 69.23% Top5 88.76%\n"
     ]
    },
    {
     "name": "stderr",
     "output_type": "stream",
     "text": [
      "Epoch 65/200 Train: 100%|██████████| 46/46 [00:22<00:00,  2.05it/s, acc=52.6, loss=1.82]\n",
      "Validation: 100%|██████████| 11/11 [00:04<00:00,  2.22it/s]\n"
     ]
    },
    {
     "name": "stdout",
     "output_type": "stream",
     "text": [
      "Epoch 65/200 | Train Loss 1.8195 Acc 52.64% | Val Loss 1.9351 Acc 68.05% Top5 88.46%\n"
     ]
    },
    {
     "name": "stderr",
     "output_type": "stream",
     "text": [
      "Epoch 66/200 Train: 100%|██████████| 46/46 [00:22<00:00,  2.07it/s, acc=50.2, loss=1.72]\n",
      "Validation: 100%|██████████| 11/11 [00:04<00:00,  2.25it/s]\n"
     ]
    },
    {
     "name": "stdout",
     "output_type": "stream",
     "text": [
      "Epoch 66/200 | Train Loss 1.7165 Acc 50.21% | Val Loss 1.9090 Acc 71.01% Top5 88.76%\n"
     ]
    },
    {
     "name": "stderr",
     "output_type": "stream",
     "text": [
      "Epoch 67/200 Train: 100%|██████████| 46/46 [00:22<00:00,  2.01it/s, acc=49.4, loss=1.69]\n",
      "Validation: 100%|██████████| 11/11 [00:04<00:00,  2.20it/s]\n"
     ]
    },
    {
     "name": "stdout",
     "output_type": "stream",
     "text": [
      "Epoch 67/200 | Train Loss 1.6912 Acc 49.38% | Val Loss 1.9432 Acc 69.82% Top5 89.35%\n"
     ]
    },
    {
     "name": "stderr",
     "output_type": "stream",
     "text": [
      "Epoch 68/200 Train: 100%|██████████| 46/46 [00:23<00:00,  1.99it/s, acc=40.9, loss=1.66]\n",
      "Validation: 100%|██████████| 11/11 [00:04<00:00,  2.27it/s]\n"
     ]
    },
    {
     "name": "stdout",
     "output_type": "stream",
     "text": [
      "Epoch 68/200 | Train Loss 1.6629 Acc 40.92% | Val Loss 1.9215 Acc 69.53% Top5 88.46%\n"
     ]
    },
    {
     "name": "stderr",
     "output_type": "stream",
     "text": [
      "Epoch 69/200 Train: 100%|██████████| 46/46 [00:22<00:00,  2.04it/s, acc=55.3, loss=1.91]\n",
      "Validation: 100%|██████████| 11/11 [00:04<00:00,  2.24it/s]\n"
     ]
    },
    {
     "name": "stdout",
     "output_type": "stream",
     "text": [
      "Epoch 69/200 | Train Loss 1.9090 Acc 55.27% | Val Loss 1.9255 Acc 69.82% Top5 88.76%\n"
     ]
    },
    {
     "name": "stderr",
     "output_type": "stream",
     "text": [
      "Epoch 70/200 Train: 100%|██████████| 46/46 [00:22<00:00,  2.05it/s, acc=41.7, loss=1.85]\n",
      "Validation: 100%|██████████| 11/11 [00:04<00:00,  2.29it/s]\n"
     ]
    },
    {
     "name": "stdout",
     "output_type": "stream",
     "text": [
      "Epoch 70/200 | Train Loss 1.8513 Acc 41.75% | Val Loss 1.9122 Acc 68.93% Top5 88.46%\n"
     ]
    },
    {
     "name": "stderr",
     "output_type": "stream",
     "text": [
      "Epoch 71/200 Train: 100%|██████████| 46/46 [00:22<00:00,  2.03it/s, acc=52.7, loss=1.89]\n",
      "Validation: 100%|██████████| 11/11 [00:04<00:00,  2.23it/s]\n"
     ]
    },
    {
     "name": "stdout",
     "output_type": "stream",
     "text": [
      "Epoch 71/200 | Train Loss 1.8891 Acc 52.70% | Val Loss 1.9069 Acc 70.12% Top5 89.64%\n"
     ]
    },
    {
     "name": "stderr",
     "output_type": "stream",
     "text": [
      "Epoch 72/200 Train: 100%|██████████| 46/46 [00:22<00:00,  2.03it/s, acc=37.9, loss=1.51]\n",
      "Validation: 100%|██████████| 11/11 [00:04<00:00,  2.25it/s]\n"
     ]
    },
    {
     "name": "stdout",
     "output_type": "stream",
     "text": [
      "Epoch 72/200 | Train Loss 1.5080 Acc 37.93% | Val Loss 1.8600 Acc 72.78% Top5 89.94%\n",
      "✅ New best model: 72.78%\n"
     ]
    },
    {
     "name": "stderr",
     "output_type": "stream",
     "text": [
      "Epoch 73/200 Train: 100%|██████████| 46/46 [00:22<00:00,  2.03it/s, acc=39.9, loss=1.68]\n",
      "Validation: 100%|██████████| 11/11 [00:04<00:00,  2.28it/s]\n"
     ]
    },
    {
     "name": "stdout",
     "output_type": "stream",
     "text": [
      "Epoch 73/200 | Train Loss 1.6779 Acc 39.94% | Val Loss 1.8993 Acc 71.01% Top5 88.76%\n"
     ]
    },
    {
     "name": "stderr",
     "output_type": "stream",
     "text": [
      "Epoch 74/200 Train: 100%|██████████| 46/46 [00:22<00:00,  2.02it/s, acc=57.8, loss=1.68]\n",
      "Validation: 100%|██████████| 11/11 [00:04<00:00,  2.25it/s]\n"
     ]
    },
    {
     "name": "stdout",
     "output_type": "stream",
     "text": [
      "Epoch 74/200 | Train Loss 1.6775 Acc 57.84% | Val Loss 1.8906 Acc 69.23% Top5 88.76%\n"
     ]
    },
    {
     "name": "stderr",
     "output_type": "stream",
     "text": [
      "Epoch 75/200 Train: 100%|██████████| 46/46 [00:22<00:00,  2.04it/s, acc=56.4, loss=1.83]\n",
      "Validation: 100%|██████████| 11/11 [00:04<00:00,  2.25it/s]\n"
     ]
    },
    {
     "name": "stdout",
     "output_type": "stream",
     "text": [
      "Epoch 75/200 | Train Loss 1.8290 Acc 56.45% | Val Loss 1.8753 Acc 71.60% Top5 89.35%\n"
     ]
    },
    {
     "name": "stderr",
     "output_type": "stream",
     "text": [
      "Epoch 76/200 Train: 100%|██████████| 46/46 [00:22<00:00,  2.02it/s, acc=60.8, loss=1.6] \n",
      "Validation: 100%|██████████| 11/11 [00:04<00:00,  2.27it/s]\n"
     ]
    },
    {
     "name": "stdout",
     "output_type": "stream",
     "text": [
      "Epoch 76/200 | Train Loss 1.6031 Acc 60.82% | Val Loss 1.8397 Acc 73.67% Top5 88.17%\n",
      "✅ New best model: 73.67%\n"
     ]
    },
    {
     "name": "stderr",
     "output_type": "stream",
     "text": [
      "Epoch 77/200 Train: 100%|██████████| 46/46 [00:22<00:00,  2.04it/s, acc=39, loss=1.63]  \n",
      "Validation: 100%|██████████| 11/11 [00:04<00:00,  2.23it/s]\n"
     ]
    },
    {
     "name": "stdout",
     "output_type": "stream",
     "text": [
      "Epoch 77/200 | Train Loss 1.6295 Acc 39.04% | Val Loss 1.9246 Acc 70.71% Top5 87.57%\n"
     ]
    },
    {
     "name": "stderr",
     "output_type": "stream",
     "text": [
      "Epoch 78/200 Train: 100%|██████████| 46/46 [00:22<00:00,  2.05it/s, acc=54.2, loss=1.79]\n",
      "Validation: 100%|██████████| 11/11 [00:04<00:00,  2.21it/s]\n"
     ]
    },
    {
     "name": "stdout",
     "output_type": "stream",
     "text": [
      "Epoch 78/200 | Train Loss 1.7936 Acc 54.16% | Val Loss 1.9273 Acc 68.05% Top5 89.64%\n"
     ]
    },
    {
     "name": "stderr",
     "output_type": "stream",
     "text": [
      "Epoch 79/200 Train: 100%|██████████| 46/46 [00:22<00:00,  2.04it/s, acc=46.9, loss=1.61]\n",
      "Validation: 100%|██████████| 11/11 [00:04<00:00,  2.21it/s]\n"
     ]
    },
    {
     "name": "stdout",
     "output_type": "stream",
     "text": [
      "Epoch 79/200 | Train Loss 1.6054 Acc 46.88% | Val Loss 1.8691 Acc 71.89% Top5 90.53%\n"
     ]
    },
    {
     "name": "stderr",
     "output_type": "stream",
     "text": [
      "Epoch 80/200 Train: 100%|██████████| 46/46 [00:23<00:00,  1.95it/s, acc=50.4, loss=1.72]\n",
      "Validation: 100%|██████████| 11/11 [00:04<00:00,  2.30it/s]\n"
     ]
    },
    {
     "name": "stdout",
     "output_type": "stream",
     "text": [
      "Epoch 80/200 | Train Loss 1.7178 Acc 50.42% | Val Loss 1.8509 Acc 72.19% Top5 90.83%\n"
     ]
    },
    {
     "name": "stderr",
     "output_type": "stream",
     "text": [
      "Epoch 81/200 Train: 100%|██████████| 46/46 [00:22<00:00,  2.07it/s, acc=47.9, loss=1.78]\n",
      "Validation: 100%|██████████| 11/11 [00:04<00:00,  2.26it/s]\n"
     ]
    },
    {
     "name": "stdout",
     "output_type": "stream",
     "text": [
      "Epoch 81/200 | Train Loss 1.7760 Acc 47.85% | Val Loss 1.8716 Acc 70.71% Top5 88.46%\n"
     ]
    },
    {
     "name": "stderr",
     "output_type": "stream",
     "text": [
      "Epoch 82/200 Train: 100%|██████████| 46/46 [00:22<00:00,  2.03it/s, acc=54, loss=1.73]  \n",
      "Validation: 100%|██████████| 11/11 [00:04<00:00,  2.27it/s]\n"
     ]
    },
    {
     "name": "stdout",
     "output_type": "stream",
     "text": [
      "Epoch 82/200 | Train Loss 1.7270 Acc 54.02% | Val Loss 1.8743 Acc 71.01% Top5 88.76%\n"
     ]
    },
    {
     "name": "stderr",
     "output_type": "stream",
     "text": [
      "Epoch 83/200 Train: 100%|██████████| 46/46 [00:22<00:00,  2.04it/s, acc=47.7, loss=1.63]\n",
      "Validation: 100%|██████████| 11/11 [00:04<00:00,  2.28it/s]\n"
     ]
    },
    {
     "name": "stdout",
     "output_type": "stream",
     "text": [
      "Epoch 83/200 | Train Loss 1.6283 Acc 47.71% | Val Loss 1.8334 Acc 72.78% Top5 90.24%\n"
     ]
    },
    {
     "name": "stderr",
     "output_type": "stream",
     "text": [
      "Epoch 84/200 Train: 100%|██████████| 46/46 [00:22<00:00,  2.03it/s, acc=41.3, loss=1.86]\n",
      "Validation: 100%|██████████| 11/11 [00:04<00:00,  2.24it/s]\n"
     ]
    },
    {
     "name": "stdout",
     "output_type": "stream",
     "text": [
      "Epoch 84/200 | Train Loss 1.8647 Acc 41.33% | Val Loss 1.8886 Acc 72.19% Top5 89.05%\n"
     ]
    },
    {
     "name": "stderr",
     "output_type": "stream",
     "text": [
      "Epoch 85/200 Train: 100%|██████████| 46/46 [00:22<00:00,  2.04it/s, acc=43.6, loss=1.81]\n",
      "Validation: 100%|██████████| 11/11 [00:04<00:00,  2.26it/s]\n"
     ]
    },
    {
     "name": "stdout",
     "output_type": "stream",
     "text": [
      "Epoch 85/200 | Train Loss 1.8088 Acc 43.62% | Val Loss 1.9172 Acc 71.89% Top5 90.53%\n"
     ]
    },
    {
     "name": "stderr",
     "output_type": "stream",
     "text": [
      "Epoch 86/200 Train: 100%|██████████| 46/46 [00:23<00:00,  1.97it/s, acc=51.6, loss=1.76]\n",
      "Validation: 100%|██████████| 11/11 [00:04<00:00,  2.22it/s]\n"
     ]
    },
    {
     "name": "stdout",
     "output_type": "stream",
     "text": [
      "Epoch 86/200 | Train Loss 1.7622 Acc 51.60% | Val Loss 1.8685 Acc 72.19% Top5 90.24%\n"
     ]
    },
    {
     "name": "stderr",
     "output_type": "stream",
     "text": [
      "Epoch 87/200 Train: 100%|██████████| 46/46 [00:22<00:00,  2.01it/s, acc=46.8, loss=1.76]\n",
      "Validation: 100%|██████████| 11/11 [00:04<00:00,  2.23it/s]\n"
     ]
    },
    {
     "name": "stdout",
     "output_type": "stream",
     "text": [
      "Epoch 87/200 | Train Loss 1.7633 Acc 46.81% | Val Loss 1.8527 Acc 73.37% Top5 90.24%\n"
     ]
    },
    {
     "name": "stderr",
     "output_type": "stream",
     "text": [
      "Epoch 88/200 Train: 100%|██████████| 46/46 [00:22<00:00,  2.06it/s, acc=54.9, loss=1.64]\n",
      "Validation: 100%|██████████| 11/11 [00:04<00:00,  2.27it/s]\n"
     ]
    },
    {
     "name": "stdout",
     "output_type": "stream",
     "text": [
      "Epoch 88/200 | Train Loss 1.6425 Acc 54.85% | Val Loss 1.8732 Acc 72.19% Top5 89.64%\n"
     ]
    },
    {
     "name": "stderr",
     "output_type": "stream",
     "text": [
      "Epoch 89/200 Train: 100%|██████████| 46/46 [00:22<00:00,  2.02it/s, acc=42.1, loss=1.82]\n",
      "Validation: 100%|██████████| 11/11 [00:05<00:00,  2.20it/s]\n"
     ]
    },
    {
     "name": "stdout",
     "output_type": "stream",
     "text": [
      "Epoch 89/200 | Train Loss 1.8234 Acc 42.09% | Val Loss 1.8438 Acc 73.37% Top5 89.64%\n"
     ]
    },
    {
     "name": "stderr",
     "output_type": "stream",
     "text": [
      "Epoch 90/200 Train: 100%|██████████| 46/46 [00:23<00:00,  1.96it/s, acc=54.2, loss=1.71]\n",
      "Validation: 100%|██████████| 11/11 [00:05<00:00,  2.18it/s]\n"
     ]
    },
    {
     "name": "stdout",
     "output_type": "stream",
     "text": [
      "Epoch 90/200 | Train Loss 1.7136 Acc 54.16% | Val Loss 1.8465 Acc 76.33% Top5 89.35%\n",
      "✅ New best model: 76.33%\n"
     ]
    },
    {
     "name": "stderr",
     "output_type": "stream",
     "text": [
      "Epoch 91/200 Train: 100%|██████████| 46/46 [00:23<00:00,  2.00it/s, acc=38.6, loss=1.78]\n",
      "Validation: 100%|██████████| 11/11 [00:04<00:00,  2.21it/s]\n"
     ]
    },
    {
     "name": "stdout",
     "output_type": "stream",
     "text": [
      "Epoch 91/200 | Train Loss 1.7777 Acc 38.63% | Val Loss 1.8613 Acc 71.89% Top5 89.64%\n"
     ]
    },
    {
     "name": "stderr",
     "output_type": "stream",
     "text": [
      "Epoch 92/200 Train: 100%|██████████| 46/46 [00:22<00:00,  2.05it/s, acc=47.9, loss=1.66]\n",
      "Validation: 100%|██████████| 11/11 [00:04<00:00,  2.26it/s]\n"
     ]
    },
    {
     "name": "stdout",
     "output_type": "stream",
     "text": [
      "Epoch 92/200 | Train Loss 1.6613 Acc 47.92% | Val Loss 1.8423 Acc 71.60% Top5 89.35%\n"
     ]
    },
    {
     "name": "stderr",
     "output_type": "stream",
     "text": [
      "Epoch 93/200 Train: 100%|██████████| 46/46 [00:22<00:00,  2.03it/s, acc=49, loss=1.65]  \n",
      "Validation: 100%|██████████| 11/11 [00:04<00:00,  2.25it/s]\n"
     ]
    },
    {
     "name": "stdout",
     "output_type": "stream",
     "text": [
      "Epoch 93/200 | Train Loss 1.6503 Acc 48.96% | Val Loss 1.8992 Acc 71.60% Top5 89.64%\n"
     ]
    },
    {
     "name": "stderr",
     "output_type": "stream",
     "text": [
      "Epoch 94/200 Train: 100%|██████████| 46/46 [00:22<00:00,  2.00it/s, acc=61.9, loss=1.6] \n",
      "Validation: 100%|██████████| 11/11 [00:04<00:00,  2.25it/s]\n"
     ]
    },
    {
     "name": "stdout",
     "output_type": "stream",
     "text": [
      "Epoch 94/200 | Train Loss 1.6039 Acc 61.86% | Val Loss 1.8473 Acc 74.26% Top5 90.83%\n"
     ]
    },
    {
     "name": "stderr",
     "output_type": "stream",
     "text": [
      "Epoch 95/200 Train: 100%|██████████| 46/46 [00:23<00:00,  1.98it/s, acc=55.5, loss=1.91]\n",
      "Validation: 100%|██████████| 11/11 [00:04<00:00,  2.26it/s]\n"
     ]
    },
    {
     "name": "stdout",
     "output_type": "stream",
     "text": [
      "Epoch 95/200 | Train Loss 1.9073 Acc 55.55% | Val Loss 1.8633 Acc 70.41% Top5 88.76%\n"
     ]
    },
    {
     "name": "stderr",
     "output_type": "stream",
     "text": [
      "Epoch 96/200 Train: 100%|██████████| 46/46 [00:22<00:00,  2.01it/s, acc=62.3, loss=1.65]\n",
      "Validation: 100%|██████████| 11/11 [00:04<00:00,  2.21it/s]\n"
     ]
    },
    {
     "name": "stdout",
     "output_type": "stream",
     "text": [
      "Epoch 96/200 | Train Loss 1.6468 Acc 62.34% | Val Loss 1.8265 Acc 73.08% Top5 89.64%\n"
     ]
    },
    {
     "name": "stderr",
     "output_type": "stream",
     "text": [
      "Epoch 97/200 Train: 100%|██████████| 46/46 [00:23<00:00,  2.00it/s, acc=45.8, loss=1.72]\n",
      "Validation: 100%|██████████| 11/11 [00:04<00:00,  2.29it/s]\n"
     ]
    },
    {
     "name": "stdout",
     "output_type": "stream",
     "text": [
      "Epoch 97/200 | Train Loss 1.7188 Acc 45.84% | Val Loss 1.8067 Acc 72.78% Top5 90.24%\n"
     ]
    },
    {
     "name": "stderr",
     "output_type": "stream",
     "text": [
      "Epoch 98/200 Train: 100%|██████████| 46/46 [00:22<00:00,  2.03it/s, acc=55.4, loss=1.88]\n",
      "Validation: 100%|██████████| 11/11 [00:05<00:00,  2.18it/s]\n"
     ]
    },
    {
     "name": "stdout",
     "output_type": "stream",
     "text": [
      "Epoch 98/200 | Train Loss 1.8779 Acc 55.41% | Val Loss 1.8124 Acc 71.60% Top5 90.83%\n"
     ]
    },
    {
     "name": "stderr",
     "output_type": "stream",
     "text": [
      "Epoch 99/200 Train: 100%|██████████| 46/46 [00:23<00:00,  1.99it/s, acc=43.6, loss=1.87]\n",
      "Validation: 100%|██████████| 11/11 [00:04<00:00,  2.23it/s]\n"
     ]
    },
    {
     "name": "stdout",
     "output_type": "stream",
     "text": [
      "Epoch 99/200 | Train Loss 1.8652 Acc 43.55% | Val Loss 1.8240 Acc 71.60% Top5 90.53%\n"
     ]
    },
    {
     "name": "stderr",
     "output_type": "stream",
     "text": [
      "Epoch 100/200 Train: 100%|██████████| 46/46 [00:23<00:00,  1.96it/s, acc=58.3, loss=1.61]\n",
      "Validation: 100%|██████████| 11/11 [00:04<00:00,  2.27it/s]\n"
     ]
    },
    {
     "name": "stdout",
     "output_type": "stream",
     "text": [
      "Epoch 100/200 | Train Loss 1.6071 Acc 58.32% | Val Loss 1.8257 Acc 72.19% Top5 90.24%\n"
     ]
    },
    {
     "name": "stderr",
     "output_type": "stream",
     "text": [
      "Epoch 101/200 Train: 100%|██████████| 46/46 [00:22<00:00,  2.01it/s, acc=59.8, loss=1.64]\n",
      "Validation: 100%|██████████| 11/11 [00:04<00:00,  2.22it/s]\n"
     ]
    },
    {
     "name": "stdout",
     "output_type": "stream",
     "text": [
      "Epoch 101/200 | Train Loss 1.6395 Acc 59.78% | Val Loss 1.8344 Acc 72.19% Top5 89.35%\n"
     ]
    },
    {
     "name": "stderr",
     "output_type": "stream",
     "text": [
      "Epoch 102/200 Train: 100%|██████████| 46/46 [00:22<00:00,  2.00it/s, acc=56.9, loss=1.59]\n",
      "Validation: 100%|██████████| 11/11 [00:04<00:00,  2.24it/s]\n"
     ]
    },
    {
     "name": "stdout",
     "output_type": "stream",
     "text": [
      "Epoch 102/200 | Train Loss 1.5852 Acc 56.93% | Val Loss 1.8279 Acc 71.89% Top5 90.53%\n"
     ]
    },
    {
     "name": "stderr",
     "output_type": "stream",
     "text": [
      "Epoch 103/200 Train: 100%|██████████| 46/46 [00:22<00:00,  2.01it/s, acc=49.7, loss=1.66]\n",
      "Validation: 100%|██████████| 11/11 [00:04<00:00,  2.28it/s]\n"
     ]
    },
    {
     "name": "stdout",
     "output_type": "stream",
     "text": [
      "Epoch 103/200 | Train Loss 1.6576 Acc 49.72% | Val Loss 1.8051 Acc 76.04% Top5 90.83%\n"
     ]
    },
    {
     "name": "stderr",
     "output_type": "stream",
     "text": [
      "Epoch 104/200 Train: 100%|██████████| 46/46 [00:22<00:00,  2.00it/s, acc=46.3, loss=1.59]\n",
      "Validation: 100%|██████████| 11/11 [00:04<00:00,  2.25it/s]\n"
     ]
    },
    {
     "name": "stdout",
     "output_type": "stream",
     "text": [
      "Epoch 104/200 | Train Loss 1.5889 Acc 46.32% | Val Loss 1.7982 Acc 76.04% Top5 89.94%\n"
     ]
    },
    {
     "name": "stderr",
     "output_type": "stream",
     "text": [
      "Epoch 105/200 Train: 100%|██████████| 46/46 [00:22<00:00,  2.02it/s, acc=45.6, loss=1.64]\n",
      "Validation: 100%|██████████| 11/11 [00:04<00:00,  2.24it/s]\n"
     ]
    },
    {
     "name": "stdout",
     "output_type": "stream",
     "text": [
      "Epoch 105/200 | Train Loss 1.6443 Acc 45.63% | Val Loss 1.8122 Acc 73.96% Top5 90.53%\n"
     ]
    },
    {
     "name": "stderr",
     "output_type": "stream",
     "text": [
      "Epoch 106/200 Train: 100%|██████████| 46/46 [00:22<00:00,  2.01it/s, acc=62, loss=1.51]  \n",
      "Validation: 100%|██████████| 11/11 [00:05<00:00,  2.18it/s]\n"
     ]
    },
    {
     "name": "stdout",
     "output_type": "stream",
     "text": [
      "Epoch 106/200 | Train Loss 1.5139 Acc 62.00% | Val Loss 1.8389 Acc 71.89% Top5 89.94%\n"
     ]
    },
    {
     "name": "stderr",
     "output_type": "stream",
     "text": [
      "Epoch 107/200 Train: 100%|██████████| 46/46 [00:22<00:00,  2.01it/s, acc=48.3, loss=1.63]\n",
      "Validation: 100%|██████████| 11/11 [00:04<00:00,  2.24it/s]\n"
     ]
    },
    {
     "name": "stdout",
     "output_type": "stream",
     "text": [
      "Epoch 107/200 | Train Loss 1.6300 Acc 48.27% | Val Loss 1.7981 Acc 75.44% Top5 90.83%\n"
     ]
    },
    {
     "name": "stderr",
     "output_type": "stream",
     "text": [
      "Epoch 108/200 Train: 100%|██████████| 46/46 [00:22<00:00,  2.01it/s, acc=52.1, loss=1.65]\n",
      "Validation: 100%|██████████| 11/11 [00:04<00:00,  2.25it/s]\n"
     ]
    },
    {
     "name": "stdout",
     "output_type": "stream",
     "text": [
      "Epoch 108/200 | Train Loss 1.6533 Acc 52.08% | Val Loss 1.8203 Acc 75.15% Top5 90.24%\n"
     ]
    },
    {
     "name": "stderr",
     "output_type": "stream",
     "text": [
      "Epoch 109/200 Train: 100%|██████████| 46/46 [00:22<00:00,  2.03it/s, acc=40.5, loss=1.72]\n",
      "Validation: 100%|██████████| 11/11 [00:05<00:00,  2.16it/s]\n"
     ]
    },
    {
     "name": "stdout",
     "output_type": "stream",
     "text": [
      "Epoch 109/200 | Train Loss 1.7172 Acc 40.50% | Val Loss 1.8449 Acc 73.08% Top5 89.64%\n"
     ]
    },
    {
     "name": "stderr",
     "output_type": "stream",
     "text": [
      "Epoch 110/200 Train: 100%|██████████| 46/46 [00:23<00:00,  2.00it/s, acc=50.9, loss=1.65]\n",
      "Validation: 100%|██████████| 11/11 [00:04<00:00,  2.27it/s]\n"
     ]
    },
    {
     "name": "stdout",
     "output_type": "stream",
     "text": [
      "Epoch 110/200 | Train Loss 1.6534 Acc 50.90% | Val Loss 1.7968 Acc 76.04% Top5 89.64%\n"
     ]
    },
    {
     "name": "stderr",
     "output_type": "stream",
     "text": [
      "Epoch 111/200 Train: 100%|██████████| 46/46 [00:22<00:00,  2.06it/s, acc=53.1, loss=1.51]\n",
      "Validation: 100%|██████████| 11/11 [00:04<00:00,  2.25it/s]\n"
     ]
    },
    {
     "name": "stdout",
     "output_type": "stream",
     "text": [
      "Epoch 111/200 | Train Loss 1.5138 Acc 53.12% | Val Loss 1.7823 Acc 75.15% Top5 90.53%\n"
     ]
    },
    {
     "name": "stderr",
     "output_type": "stream",
     "text": [
      "Epoch 112/200 Train: 100%|██████████| 46/46 [00:22<00:00,  2.01it/s, acc=60.3, loss=1.62]\n",
      "Validation: 100%|██████████| 11/11 [00:05<00:00,  2.20it/s]\n"
     ]
    },
    {
     "name": "stdout",
     "output_type": "stream",
     "text": [
      "Epoch 112/200 | Train Loss 1.6152 Acc 60.26% | Val Loss 1.8103 Acc 74.56% Top5 89.94%\n"
     ]
    },
    {
     "name": "stderr",
     "output_type": "stream",
     "text": [
      "Epoch 113/200 Train: 100%|██████████| 46/46 [00:23<00:00,  1.97it/s, acc=43.1, loss=1.67]\n",
      "Validation: 100%|██████████| 11/11 [00:04<00:00,  2.33it/s]\n"
     ]
    },
    {
     "name": "stdout",
     "output_type": "stream",
     "text": [
      "Epoch 113/200 | Train Loss 1.6682 Acc 43.13% | Val Loss 1.8199 Acc 73.67% Top5 90.24%\n"
     ]
    },
    {
     "name": "stderr",
     "output_type": "stream",
     "text": [
      "Epoch 114/200 Train: 100%|██████████| 46/46 [00:22<00:00,  2.03it/s, acc=48.5, loss=1.75]\n",
      "Validation: 100%|██████████| 11/11 [00:04<00:00,  2.25it/s]\n"
     ]
    },
    {
     "name": "stdout",
     "output_type": "stream",
     "text": [
      "Epoch 114/200 | Train Loss 1.7513 Acc 48.54% | Val Loss 1.7889 Acc 73.37% Top5 89.94%\n"
     ]
    },
    {
     "name": "stderr",
     "output_type": "stream",
     "text": [
      "Epoch 115/200 Train: 100%|██████████| 46/46 [00:23<00:00,  1.99it/s, acc=48.5, loss=1.52]\n",
      "Validation: 100%|██████████| 11/11 [00:04<00:00,  2.30it/s]\n"
     ]
    },
    {
     "name": "stdout",
     "output_type": "stream",
     "text": [
      "Epoch 115/200 | Train Loss 1.5235 Acc 48.47% | Val Loss 1.8133 Acc 74.56% Top5 90.24%\n"
     ]
    },
    {
     "name": "stderr",
     "output_type": "stream",
     "text": [
      "Epoch 116/200 Train: 100%|██████████| 46/46 [00:22<00:00,  2.05it/s, acc=64.4, loss=1.6] \n",
      "Validation: 100%|██████████| 11/11 [00:04<00:00,  2.25it/s]\n"
     ]
    },
    {
     "name": "stdout",
     "output_type": "stream",
     "text": [
      "Epoch 116/200 | Train Loss 1.6048 Acc 64.42% | Val Loss 1.8072 Acc 75.74% Top5 89.94%\n"
     ]
    },
    {
     "name": "stderr",
     "output_type": "stream",
     "text": [
      "Epoch 117/200 Train: 100%|██████████| 46/46 [00:22<00:00,  2.01it/s, acc=52, loss=1.65]  \n",
      "Validation: 100%|██████████| 11/11 [00:04<00:00,  2.25it/s]\n"
     ]
    },
    {
     "name": "stdout",
     "output_type": "stream",
     "text": [
      "Epoch 117/200 | Train Loss 1.6510 Acc 52.01% | Val Loss 1.7867 Acc 75.15% Top5 89.35%\n"
     ]
    },
    {
     "name": "stderr",
     "output_type": "stream",
     "text": [
      "Epoch 118/200 Train: 100%|██████████| 46/46 [00:22<00:00,  2.02it/s, acc=50.8, loss=1.82]\n",
      "Validation: 100%|██████████| 11/11 [00:04<00:00,  2.25it/s]\n"
     ]
    },
    {
     "name": "stdout",
     "output_type": "stream",
     "text": [
      "Epoch 118/200 | Train Loss 1.8225 Acc 50.76% | Val Loss 1.7849 Acc 74.56% Top5 90.83%\n"
     ]
    },
    {
     "name": "stderr",
     "output_type": "stream",
     "text": [
      "Epoch 119/200 Train: 100%|██████████| 46/46 [00:23<00:00,  2.00it/s, acc=42.8, loss=1.71]\n",
      "Validation: 100%|██████████| 11/11 [00:04<00:00,  2.21it/s]\n"
     ]
    },
    {
     "name": "stdout",
     "output_type": "stream",
     "text": [
      "Epoch 119/200 | Train Loss 1.7084 Acc 42.79% | Val Loss 1.7917 Acc 75.44% Top5 90.83%\n"
     ]
    },
    {
     "name": "stderr",
     "output_type": "stream",
     "text": [
      "Epoch 120/200 Train: 100%|██████████| 46/46 [00:23<00:00,  2.00it/s, acc=56.2, loss=1.85]\n",
      "Validation: 100%|██████████| 11/11 [00:04<00:00,  2.25it/s]\n"
     ]
    },
    {
     "name": "stdout",
     "output_type": "stream",
     "text": [
      "Epoch 120/200 | Train Loss 1.8507 Acc 56.17% | Val Loss 1.8004 Acc 75.44% Top5 90.53%\n"
     ]
    },
    {
     "name": "stderr",
     "output_type": "stream",
     "text": [
      "Epoch 121/200 Train: 100%|██████████| 46/46 [00:23<00:00,  1.98it/s, acc=47.8, loss=1.53]\n",
      "Validation: 100%|██████████| 11/11 [00:04<00:00,  2.31it/s]\n"
     ]
    },
    {
     "name": "stdout",
     "output_type": "stream",
     "text": [
      "Epoch 121/200 | Train Loss 1.5316 Acc 47.78% | Val Loss 1.7946 Acc 74.56% Top5 90.83%\n"
     ]
    },
    {
     "name": "stderr",
     "output_type": "stream",
     "text": [
      "Epoch 122/200 Train: 100%|██████████| 46/46 [00:22<00:00,  2.01it/s, acc=54.8, loss=1.56]\n",
      "Validation: 100%|██████████| 11/11 [00:04<00:00,  2.26it/s]\n"
     ]
    },
    {
     "name": "stdout",
     "output_type": "stream",
     "text": [
      "Epoch 122/200 | Train Loss 1.5572 Acc 54.79% | Val Loss 1.7763 Acc 72.49% Top5 91.72%\n"
     ]
    },
    {
     "name": "stderr",
     "output_type": "stream",
     "text": [
      "Epoch 123/200 Train: 100%|██████████| 46/46 [00:23<00:00,  1.96it/s, acc=40.2, loss=1.65]\n",
      "Validation: 100%|██████████| 11/11 [00:04<00:00,  2.28it/s]\n"
     ]
    },
    {
     "name": "stdout",
     "output_type": "stream",
     "text": [
      "Epoch 123/200 | Train Loss 1.6460 Acc 40.15% | Val Loss 1.7954 Acc 75.44% Top5 89.64%\n"
     ]
    },
    {
     "name": "stderr",
     "output_type": "stream",
     "text": [
      "Epoch 124/200 Train: 100%|██████████| 46/46 [00:22<00:00,  2.02it/s, acc=57.1, loss=1.66]\n",
      "Validation: 100%|██████████| 11/11 [00:04<00:00,  2.30it/s]\n"
     ]
    },
    {
     "name": "stdout",
     "output_type": "stream",
     "text": [
      "Epoch 124/200 | Train Loss 1.6573 Acc 57.07% | Val Loss 1.7924 Acc 75.44% Top5 89.64%\n"
     ]
    },
    {
     "name": "stderr",
     "output_type": "stream",
     "text": [
      "Epoch 125/200 Train: 100%|██████████| 46/46 [00:22<00:00,  2.04it/s, acc=35.2, loss=1.6] \n",
      "Validation: 100%|██████████| 11/11 [00:04<00:00,  2.22it/s]\n"
     ]
    },
    {
     "name": "stdout",
     "output_type": "stream",
     "text": [
      "Epoch 125/200 | Train Loss 1.5962 Acc 35.23% | Val Loss 1.7902 Acc 73.67% Top5 90.53%\n"
     ]
    },
    {
     "name": "stderr",
     "output_type": "stream",
     "text": [
      "Epoch 126/200 Train: 100%|██████████| 46/46 [00:22<00:00,  2.00it/s, acc=43.5, loss=1.67]\n",
      "Validation: 100%|██████████| 11/11 [00:04<00:00,  2.28it/s]\n"
     ]
    },
    {
     "name": "stdout",
     "output_type": "stream",
     "text": [
      "Epoch 126/200 | Train Loss 1.6747 Acc 43.48% | Val Loss 1.8054 Acc 73.96% Top5 89.05%\n"
     ]
    },
    {
     "name": "stderr",
     "output_type": "stream",
     "text": [
      "Epoch 127/200 Train: 100%|██████████| 46/46 [00:22<00:00,  2.04it/s, acc=50.5, loss=1.82]\n",
      "Validation: 100%|██████████| 11/11 [00:04<00:00,  2.28it/s]\n"
     ]
    },
    {
     "name": "stdout",
     "output_type": "stream",
     "text": [
      "Epoch 127/200 | Train Loss 1.8248 Acc 50.49% | Val Loss 1.7937 Acc 73.08% Top5 90.24%\n"
     ]
    },
    {
     "name": "stderr",
     "output_type": "stream",
     "text": [
      "Epoch 128/200 Train: 100%|██████████| 46/46 [00:22<00:00,  2.01it/s, acc=58.3, loss=1.69]\n",
      "Validation: 100%|██████████| 11/11 [00:04<00:00,  2.30it/s]\n"
     ]
    },
    {
     "name": "stdout",
     "output_type": "stream",
     "text": [
      "Epoch 128/200 | Train Loss 1.6900 Acc 58.32% | Val Loss 1.7631 Acc 74.56% Top5 90.53%\n"
     ]
    },
    {
     "name": "stderr",
     "output_type": "stream",
     "text": [
      "Epoch 129/200 Train: 100%|██████████| 46/46 [00:22<00:00,  2.00it/s, acc=62.6, loss=1.5] \n",
      "Validation: 100%|██████████| 11/11 [00:04<00:00,  2.22it/s]\n"
     ]
    },
    {
     "name": "stdout",
     "output_type": "stream",
     "text": [
      "Epoch 129/200 | Train Loss 1.5027 Acc 62.62% | Val Loss 1.7734 Acc 75.74% Top5 89.94%\n"
     ]
    },
    {
     "name": "stderr",
     "output_type": "stream",
     "text": [
      "Epoch 130/200 Train: 100%|██████████| 46/46 [00:22<00:00,  2.00it/s, acc=47.7, loss=1.65]\n",
      "Validation: 100%|██████████| 11/11 [00:04<00:00,  2.21it/s]\n"
     ]
    },
    {
     "name": "stdout",
     "output_type": "stream",
     "text": [
      "Epoch 130/200 | Train Loss 1.6537 Acc 47.71% | Val Loss 1.7879 Acc 74.26% Top5 89.94%\n"
     ]
    },
    {
     "name": "stderr",
     "output_type": "stream",
     "text": [
      "Epoch 131/200 Train: 100%|██████████| 46/46 [00:22<00:00,  2.03it/s, acc=55.5, loss=1.61]\n",
      "Validation: 100%|██████████| 11/11 [00:04<00:00,  2.25it/s]\n"
     ]
    },
    {
     "name": "stdout",
     "output_type": "stream",
     "text": [
      "Epoch 131/200 | Train Loss 1.6143 Acc 55.55% | Val Loss 1.7542 Acc 76.33% Top5 90.83%\n"
     ]
    },
    {
     "name": "stderr",
     "output_type": "stream",
     "text": [
      "Epoch 132/200 Train: 100%|██████████| 46/46 [00:23<00:00,  1.96it/s, acc=47.5, loss=1.69]\n",
      "Validation: 100%|██████████| 11/11 [00:04<00:00,  2.21it/s]\n"
     ]
    },
    {
     "name": "stdout",
     "output_type": "stream",
     "text": [
      "Epoch 132/200 | Train Loss 1.6860 Acc 47.50% | Val Loss 1.7629 Acc 76.33% Top5 90.83%\n"
     ]
    },
    {
     "name": "stderr",
     "output_type": "stream",
     "text": [
      "Epoch 133/200 Train: 100%|██████████| 46/46 [00:23<00:00,  1.99it/s, acc=50.3, loss=1.71]\n",
      "Validation: 100%|██████████| 11/11 [00:04<00:00,  2.21it/s]\n"
     ]
    },
    {
     "name": "stdout",
     "output_type": "stream",
     "text": [
      "Epoch 133/200 | Train Loss 1.7058 Acc 50.28% | Val Loss 1.8121 Acc 74.85% Top5 89.94%\n"
     ]
    },
    {
     "name": "stderr",
     "output_type": "stream",
     "text": [
      "Epoch 134/200 Train: 100%|██████████| 46/46 [00:22<00:00,  2.04it/s, acc=55.1, loss=1.54]\n",
      "Validation: 100%|██████████| 11/11 [00:04<00:00,  2.21it/s]\n"
     ]
    },
    {
     "name": "stdout",
     "output_type": "stream",
     "text": [
      "Epoch 134/200 | Train Loss 1.5416 Acc 55.06% | Val Loss 1.7666 Acc 74.85% Top5 91.72%\n"
     ]
    },
    {
     "name": "stderr",
     "output_type": "stream",
     "text": [
      "Epoch 135/200 Train: 100%|██████████| 46/46 [00:22<00:00,  2.02it/s, acc=50.8, loss=1.68]\n",
      "Validation: 100%|██████████| 11/11 [00:04<00:00,  2.27it/s]\n"
     ]
    },
    {
     "name": "stdout",
     "output_type": "stream",
     "text": [
      "Epoch 135/200 | Train Loss 1.6841 Acc 50.76% | Val Loss 1.7811 Acc 75.44% Top5 90.24%\n"
     ]
    },
    {
     "name": "stderr",
     "output_type": "stream",
     "text": [
      "Epoch 136/200 Train: 100%|██████████| 46/46 [00:22<00:00,  2.01it/s, acc=45, loss=1.7]   \n",
      "Validation: 100%|██████████| 11/11 [00:04<00:00,  2.25it/s]\n"
     ]
    },
    {
     "name": "stdout",
     "output_type": "stream",
     "text": [
      "Epoch 136/200 | Train Loss 1.6960 Acc 45.01% | Val Loss 1.7603 Acc 74.56% Top5 91.42%\n"
     ]
    },
    {
     "name": "stderr",
     "output_type": "stream",
     "text": [
      "Epoch 137/200 Train: 100%|██████████| 46/46 [00:22<00:00,  2.04it/s, acc=55.1, loss=1.67]\n",
      "Validation: 100%|██████████| 11/11 [00:04<00:00,  2.28it/s]\n"
     ]
    },
    {
     "name": "stdout",
     "output_type": "stream",
     "text": [
      "Epoch 137/200 | Train Loss 1.6691 Acc 55.13% | Val Loss 1.7656 Acc 74.85% Top5 90.24%\n"
     ]
    },
    {
     "name": "stderr",
     "output_type": "stream",
     "text": [
      "Epoch 138/200 Train: 100%|██████████| 46/46 [00:22<00:00,  2.04it/s, acc=47.3, loss=1.66]\n",
      "Validation: 100%|██████████| 11/11 [00:05<00:00,  2.19it/s]\n"
     ]
    },
    {
     "name": "stdout",
     "output_type": "stream",
     "text": [
      "Epoch 138/200 | Train Loss 1.6595 Acc 47.30% | Val Loss 1.7884 Acc 73.67% Top5 91.12%\n"
     ]
    },
    {
     "name": "stderr",
     "output_type": "stream",
     "text": [
      "Epoch 139/200 Train: 100%|██████████| 46/46 [00:22<00:00,  2.01it/s, acc=50.2, loss=1.74]\n",
      "Validation: 100%|██████████| 11/11 [00:04<00:00,  2.25it/s]\n"
     ]
    },
    {
     "name": "stdout",
     "output_type": "stream",
     "text": [
      "Epoch 139/200 | Train Loss 1.7410 Acc 50.21% | Val Loss 1.7573 Acc 76.33% Top5 90.83%\n"
     ]
    },
    {
     "name": "stderr",
     "output_type": "stream",
     "text": [
      "Epoch 140/200 Train: 100%|██████████| 46/46 [00:23<00:00,  1.98it/s, acc=39.9, loss=1.4] \n",
      "Validation: 100%|██████████| 11/11 [00:04<00:00,  2.23it/s]\n"
     ]
    },
    {
     "name": "stdout",
     "output_type": "stream",
     "text": [
      "Epoch 140/200 | Train Loss 1.4043 Acc 39.88% | Val Loss 1.7516 Acc 75.15% Top5 91.72%\n"
     ]
    },
    {
     "name": "stderr",
     "output_type": "stream",
     "text": [
      "Epoch 141/200 Train: 100%|██████████| 46/46 [00:22<00:00,  2.03it/s, acc=51, loss=1.79]  \n",
      "Validation: 100%|██████████| 11/11 [00:04<00:00,  2.27it/s]\n"
     ]
    },
    {
     "name": "stdout",
     "output_type": "stream",
     "text": [
      "Epoch 141/200 | Train Loss 1.7903 Acc 50.97% | Val Loss 1.7690 Acc 75.44% Top5 91.12%\n"
     ]
    },
    {
     "name": "stderr",
     "output_type": "stream",
     "text": [
      "Epoch 142/200 Train: 100%|██████████| 46/46 [00:22<00:00,  2.06it/s, acc=47.5, loss=1.51]\n",
      "Validation: 100%|██████████| 11/11 [00:04<00:00,  2.24it/s]\n"
     ]
    },
    {
     "name": "stdout",
     "output_type": "stream",
     "text": [
      "Epoch 142/200 | Train Loss 1.5136 Acc 47.50% | Val Loss 1.7805 Acc 73.37% Top5 91.42%\n"
     ]
    },
    {
     "name": "stderr",
     "output_type": "stream",
     "text": [
      "Epoch 143/200 Train: 100%|██████████| 46/46 [00:23<00:00,  1.99it/s, acc=58.9, loss=1.55]\n",
      "Validation: 100%|██████████| 11/11 [00:04<00:00,  2.26it/s]\n"
     ]
    },
    {
     "name": "stdout",
     "output_type": "stream",
     "text": [
      "Epoch 143/200 | Train Loss 1.5484 Acc 58.95% | Val Loss 1.7591 Acc 74.85% Top5 90.83%\n"
     ]
    },
    {
     "name": "stderr",
     "output_type": "stream",
     "text": [
      "Epoch 144/200 Train: 100%|██████████| 46/46 [00:22<00:00,  2.06it/s, acc=55.2, loss=1.54]\n",
      "Validation: 100%|██████████| 11/11 [00:04<00:00,  2.24it/s]\n"
     ]
    },
    {
     "name": "stdout",
     "output_type": "stream",
     "text": [
      "Epoch 144/200 | Train Loss 1.5389 Acc 55.20% | Val Loss 1.7528 Acc 75.15% Top5 90.24%\n"
     ]
    },
    {
     "name": "stderr",
     "output_type": "stream",
     "text": [
      "Epoch 145/200 Train: 100%|██████████| 46/46 [00:23<00:00,  2.00it/s, acc=57.3, loss=1.71]\n",
      "Validation: 100%|██████████| 11/11 [00:04<00:00,  2.26it/s]\n"
     ]
    },
    {
     "name": "stdout",
     "output_type": "stream",
     "text": [
      "Epoch 145/200 | Train Loss 1.7079 Acc 57.28% | Val Loss 1.7598 Acc 74.85% Top5 91.12%\n"
     ]
    },
    {
     "name": "stderr",
     "output_type": "stream",
     "text": [
      "Epoch 146/200 Train: 100%|██████████| 46/46 [00:22<00:00,  2.03it/s, acc=50.7, loss=1.43]\n",
      "Validation: 100%|██████████| 11/11 [00:04<00:00,  2.20it/s]\n"
     ]
    },
    {
     "name": "stdout",
     "output_type": "stream",
     "text": [
      "Epoch 146/200 | Train Loss 1.4346 Acc 50.69% | Val Loss 1.7574 Acc 75.44% Top5 90.83%\n"
     ]
    },
    {
     "name": "stderr",
     "output_type": "stream",
     "text": [
      "Epoch 147/200 Train: 100%|██████████| 46/46 [00:23<00:00,  1.96it/s, acc=48.3, loss=1.59]\n",
      "Validation: 100%|██████████| 11/11 [00:04<00:00,  2.20it/s]\n"
     ]
    },
    {
     "name": "stdout",
     "output_type": "stream",
     "text": [
      "Epoch 147/200 | Train Loss 1.5873 Acc 48.34% | Val Loss 1.7768 Acc 75.74% Top5 91.12%\n"
     ]
    },
    {
     "name": "stderr",
     "output_type": "stream",
     "text": [
      "Epoch 148/200 Train: 100%|██████████| 46/46 [00:22<00:00,  2.03it/s, acc=57.1, loss=1.66]\n",
      "Validation: 100%|██████████| 11/11 [00:04<00:00,  2.32it/s]\n"
     ]
    },
    {
     "name": "stdout",
     "output_type": "stream",
     "text": [
      "Epoch 148/200 | Train Loss 1.6554 Acc 57.07% | Val Loss 1.7888 Acc 74.85% Top5 90.24%\n"
     ]
    },
    {
     "name": "stderr",
     "output_type": "stream",
     "text": [
      "Epoch 149/200 Train: 100%|██████████| 46/46 [00:22<00:00,  2.05it/s, acc=57.3, loss=1.55]\n",
      "Validation: 100%|██████████| 11/11 [00:04<00:00,  2.22it/s]\n"
     ]
    },
    {
     "name": "stdout",
     "output_type": "stream",
     "text": [
      "Epoch 149/200 | Train Loss 1.5455 Acc 57.28% | Val Loss 1.7681 Acc 76.33% Top5 90.53%\n"
     ]
    },
    {
     "name": "stderr",
     "output_type": "stream",
     "text": [
      "Epoch 150/200 Train: 100%|██████████| 46/46 [00:23<00:00,  1.94it/s, acc=59.6, loss=1.65]\n",
      "Validation: 100%|██████████| 11/11 [00:05<00:00,  2.05it/s]\n"
     ]
    },
    {
     "name": "stdout",
     "output_type": "stream",
     "text": [
      "Epoch 150/200 | Train Loss 1.6483 Acc 59.64% | Val Loss 1.7842 Acc 75.74% Top5 90.24%\n"
     ]
    },
    {
     "name": "stderr",
     "output_type": "stream",
     "text": [
      "Epoch 151/200 Train: 100%|██████████| 46/46 [00:23<00:00,  2.00it/s, acc=41.6, loss=1.66]\n",
      "Validation: 100%|██████████| 11/11 [00:04<00:00,  2.22it/s]\n"
     ]
    },
    {
     "name": "stdout",
     "output_type": "stream",
     "text": [
      "Epoch 151/200 | Train Loss 1.6622 Acc 41.61% | Val Loss 1.7634 Acc 75.15% Top5 90.53%\n"
     ]
    },
    {
     "name": "stderr",
     "output_type": "stream",
     "text": [
      "Epoch 152/200 Train: 100%|██████████| 46/46 [00:22<00:00,  2.04it/s, acc=42.4, loss=1.69]\n",
      "Validation: 100%|██████████| 11/11 [00:04<00:00,  2.23it/s]\n"
     ]
    },
    {
     "name": "stdout",
     "output_type": "stream",
     "text": [
      "Epoch 152/200 | Train Loss 1.6925 Acc 42.37% | Val Loss 1.7943 Acc 74.26% Top5 90.24%\n"
     ]
    },
    {
     "name": "stderr",
     "output_type": "stream",
     "text": [
      "Epoch 153/200 Train: 100%|██████████| 46/46 [00:23<00:00,  1.99it/s, acc=44.1, loss=1.61]\n",
      "Validation: 100%|██████████| 11/11 [00:04<00:00,  2.20it/s]\n"
     ]
    },
    {
     "name": "stdout",
     "output_type": "stream",
     "text": [
      "Epoch 153/200 | Train Loss 1.6129 Acc 44.11% | Val Loss 1.8071 Acc 73.37% Top5 89.94%\n"
     ]
    },
    {
     "name": "stderr",
     "output_type": "stream",
     "text": [
      "Epoch 154/200 Train: 100%|██████████| 46/46 [00:22<00:00,  2.00it/s, acc=43.3, loss=1.67]\n",
      "Validation: 100%|██████████| 11/11 [00:04<00:00,  2.26it/s]\n"
     ]
    },
    {
     "name": "stdout",
     "output_type": "stream",
     "text": [
      "Epoch 154/200 | Train Loss 1.6671 Acc 43.27% | Val Loss 1.7851 Acc 73.96% Top5 89.94%\n"
     ]
    },
    {
     "name": "stderr",
     "output_type": "stream",
     "text": [
      "Epoch 155/200 Train: 100%|██████████| 46/46 [00:22<00:00,  2.02it/s, acc=61.9, loss=1.75]\n",
      "Validation: 100%|██████████| 11/11 [00:04<00:00,  2.27it/s]\n"
     ]
    },
    {
     "name": "stdout",
     "output_type": "stream",
     "text": [
      "Epoch 155/200 | Train Loss 1.7514 Acc 61.86% | Val Loss 1.8139 Acc 71.89% Top5 89.35%\n"
     ]
    },
    {
     "name": "stderr",
     "output_type": "stream",
     "text": [
      "Epoch 156/200 Train: 100%|██████████| 46/46 [00:22<00:00,  2.02it/s, acc=53.1, loss=1.69]\n",
      "Validation: 100%|██████████| 11/11 [00:04<00:00,  2.25it/s]\n"
     ]
    },
    {
     "name": "stdout",
     "output_type": "stream",
     "text": [
      "Epoch 156/200 | Train Loss 1.6919 Acc 53.12% | Val Loss 1.7657 Acc 75.15% Top5 90.83%\n"
     ]
    },
    {
     "name": "stderr",
     "output_type": "stream",
     "text": [
      "Epoch 157/200 Train: 100%|██████████| 46/46 [00:22<00:00,  2.05it/s, acc=53.1, loss=1.73]\n",
      "Validation: 100%|██████████| 11/11 [00:04<00:00,  2.22it/s]\n"
     ]
    },
    {
     "name": "stdout",
     "output_type": "stream",
     "text": [
      "Epoch 157/200 | Train Loss 1.7349 Acc 53.05% | Val Loss 1.7682 Acc 75.15% Top5 89.94%\n"
     ]
    },
    {
     "name": "stderr",
     "output_type": "stream",
     "text": [
      "Epoch 158/200 Train: 100%|██████████| 46/46 [00:22<00:00,  2.06it/s, acc=59.6, loss=1.56]\n",
      "Validation: 100%|██████████| 11/11 [00:04<00:00,  2.24it/s]\n"
     ]
    },
    {
     "name": "stdout",
     "output_type": "stream",
     "text": [
      "Epoch 158/200 | Train Loss 1.5602 Acc 59.64% | Val Loss 1.7694 Acc 76.33% Top5 91.42%\n"
     ]
    },
    {
     "name": "stderr",
     "output_type": "stream",
     "text": [
      "Epoch 159/200 Train: 100%|██████████| 46/46 [00:22<00:00,  2.03it/s, acc=48.7, loss=1.66]\n",
      "Validation: 100%|██████████| 11/11 [00:04<00:00,  2.22it/s]\n"
     ]
    },
    {
     "name": "stdout",
     "output_type": "stream",
     "text": [
      "Epoch 159/200 | Train Loss 1.6600 Acc 48.68% | Val Loss 1.7546 Acc 75.15% Top5 91.12%\n"
     ]
    },
    {
     "name": "stderr",
     "output_type": "stream",
     "text": [
      "Epoch 160/200 Train: 100%|██████████| 46/46 [00:23<00:00,  1.98it/s, acc=39.9, loss=1.86]\n",
      "Validation: 100%|██████████| 11/11 [00:04<00:00,  2.25it/s]\n"
     ]
    },
    {
     "name": "stdout",
     "output_type": "stream",
     "text": [
      "Epoch 160/200 | Train Loss 1.8645 Acc 39.88% | Val Loss 1.7687 Acc 76.04% Top5 90.24%\n"
     ]
    },
    {
     "name": "stderr",
     "output_type": "stream",
     "text": [
      "Epoch 161/200 Train: 100%|██████████| 46/46 [00:22<00:00,  2.03it/s, acc=46.9, loss=1.65]\n",
      "Validation: 100%|██████████| 11/11 [00:04<00:00,  2.22it/s]\n"
     ]
    },
    {
     "name": "stdout",
     "output_type": "stream",
     "text": [
      "Epoch 161/200 | Train Loss 1.6495 Acc 46.88% | Val Loss 1.7599 Acc 75.44% Top5 91.12%\n"
     ]
    },
    {
     "name": "stderr",
     "output_type": "stream",
     "text": [
      "Epoch 162/200 Train: 100%|██████████| 46/46 [00:22<00:00,  2.02it/s, acc=50.1, loss=1.6] \n",
      "Validation: 100%|██████████| 11/11 [00:04<00:00,  2.29it/s]\n"
     ]
    },
    {
     "name": "stdout",
     "output_type": "stream",
     "text": [
      "Epoch 162/200 | Train Loss 1.5958 Acc 50.14% | Val Loss 1.7638 Acc 76.63% Top5 90.24%\n",
      "✅ New best model: 76.63%\n"
     ]
    },
    {
     "name": "stderr",
     "output_type": "stream",
     "text": [
      "Epoch 163/200 Train: 100%|██████████| 46/46 [00:22<00:00,  2.02it/s, acc=49.4, loss=1.76]\n",
      "Validation: 100%|██████████| 11/11 [00:04<00:00,  2.27it/s]\n"
     ]
    },
    {
     "name": "stdout",
     "output_type": "stream",
     "text": [
      "Epoch 163/200 | Train Loss 1.7559 Acc 49.38% | Val Loss 1.7545 Acc 75.44% Top5 90.83%\n"
     ]
    },
    {
     "name": "stderr",
     "output_type": "stream",
     "text": [
      "Epoch 164/200 Train: 100%|██████████| 46/46 [00:22<00:00,  2.04it/s, acc=50.3, loss=1.66]\n",
      "Validation: 100%|██████████| 11/11 [00:04<00:00,  2.23it/s]\n"
     ]
    },
    {
     "name": "stdout",
     "output_type": "stream",
     "text": [
      "Epoch 164/200 | Train Loss 1.6569 Acc 50.28% | Val Loss 1.7642 Acc 74.26% Top5 90.83%\n"
     ]
    },
    {
     "name": "stderr",
     "output_type": "stream",
     "text": [
      "Epoch 165/200 Train: 100%|██████████| 46/46 [00:23<00:00,  1.98it/s, acc=46.3, loss=1.65]\n",
      "Validation: 100%|██████████| 11/11 [00:05<00:00,  2.01it/s]\n"
     ]
    },
    {
     "name": "stdout",
     "output_type": "stream",
     "text": [
      "Epoch 165/200 | Train Loss 1.6515 Acc 46.26% | Val Loss 1.7462 Acc 75.15% Top5 90.53%\n"
     ]
    },
    {
     "name": "stderr",
     "output_type": "stream",
     "text": [
      "Epoch 166/200 Train: 100%|██████████| 46/46 [00:23<00:00,  1.95it/s, acc=44.7, loss=1.71]\n",
      "Validation: 100%|██████████| 11/11 [00:05<00:00,  2.19it/s]\n"
     ]
    },
    {
     "name": "stdout",
     "output_type": "stream",
     "text": [
      "Epoch 166/200 | Train Loss 1.7058 Acc 44.73% | Val Loss 1.7573 Acc 75.15% Top5 90.83%\n"
     ]
    },
    {
     "name": "stderr",
     "output_type": "stream",
     "text": [
      "Epoch 167/200 Train: 100%|██████████| 46/46 [00:23<00:00,  1.97it/s, acc=46.9, loss=1.53]\n",
      "Validation: 100%|██████████| 11/11 [00:04<00:00,  2.23it/s]\n"
     ]
    },
    {
     "name": "stdout",
     "output_type": "stream",
     "text": [
      "Epoch 167/200 | Train Loss 1.5286 Acc 46.95% | Val Loss 1.7617 Acc 74.56% Top5 90.83%\n"
     ]
    },
    {
     "name": "stderr",
     "output_type": "stream",
     "text": [
      "Epoch 168/200 Train: 100%|██████████| 46/46 [00:23<00:00,  1.97it/s, acc=49, loss=1.65]  \n",
      "Validation: 100%|██████████| 11/11 [00:04<00:00,  2.21it/s]\n"
     ]
    },
    {
     "name": "stdout",
     "output_type": "stream",
     "text": [
      "Epoch 168/200 | Train Loss 1.6454 Acc 48.96% | Val Loss 1.7547 Acc 75.74% Top5 90.53%\n"
     ]
    },
    {
     "name": "stderr",
     "output_type": "stream",
     "text": [
      "Epoch 169/200 Train: 100%|██████████| 46/46 [00:22<00:00,  2.04it/s, acc=43.4, loss=1.57]\n",
      "Validation: 100%|██████████| 11/11 [00:04<00:00,  2.27it/s]\n"
     ]
    },
    {
     "name": "stdout",
     "output_type": "stream",
     "text": [
      "Epoch 169/200 | Train Loss 1.5722 Acc 43.41% | Val Loss 1.7565 Acc 75.15% Top5 90.53%\n"
     ]
    },
    {
     "name": "stderr",
     "output_type": "stream",
     "text": [
      "Epoch 170/200 Train: 100%|██████████| 46/46 [00:23<00:00,  1.98it/s, acc=46, loss=1.57]  \n",
      "Validation: 100%|██████████| 11/11 [00:05<00:00,  2.19it/s]\n"
     ]
    },
    {
     "name": "stdout",
     "output_type": "stream",
     "text": [
      "Epoch 170/200 | Train Loss 1.5743 Acc 46.05% | Val Loss 1.7735 Acc 73.08% Top5 91.12%\n"
     ]
    },
    {
     "name": "stderr",
     "output_type": "stream",
     "text": [
      "Epoch 171/200 Train: 100%|██████████| 46/46 [00:23<00:00,  1.97it/s, acc=52.8, loss=1.7] \n",
      "Validation: 100%|██████████| 11/11 [00:05<00:00,  2.17it/s]\n"
     ]
    },
    {
     "name": "stdout",
     "output_type": "stream",
     "text": [
      "Epoch 171/200 | Train Loss 1.6984 Acc 52.84% | Val Loss 1.7685 Acc 74.26% Top5 90.53%\n"
     ]
    },
    {
     "name": "stderr",
     "output_type": "stream",
     "text": [
      "Epoch 172/200 Train: 100%|██████████| 46/46 [00:22<00:00,  2.03it/s, acc=42, loss=1.71]  \n",
      "Validation: 100%|██████████| 11/11 [00:05<00:00,  2.18it/s]\n"
     ]
    },
    {
     "name": "stdout",
     "output_type": "stream",
     "text": [
      "Epoch 172/200 | Train Loss 1.7070 Acc 42.02% | Val Loss 1.7761 Acc 74.26% Top5 91.12%\n"
     ]
    },
    {
     "name": "stderr",
     "output_type": "stream",
     "text": [
      "Epoch 173/200 Train: 100%|██████████| 46/46 [00:23<00:00,  1.98it/s, acc=39.2, loss=1.61]\n",
      "Validation: 100%|██████████| 11/11 [00:04<00:00,  2.23it/s]\n"
     ]
    },
    {
     "name": "stdout",
     "output_type": "stream",
     "text": [
      "Epoch 173/200 | Train Loss 1.6078 Acc 39.18% | Val Loss 1.7704 Acc 75.44% Top5 90.24%\n"
     ]
    },
    {
     "name": "stderr",
     "output_type": "stream",
     "text": [
      "Epoch 174/200 Train: 100%|██████████| 46/46 [00:23<00:00,  1.97it/s, acc=42.6, loss=1.53]\n",
      "Validation: 100%|██████████| 11/11 [00:04<00:00,  2.25it/s]\n"
     ]
    },
    {
     "name": "stdout",
     "output_type": "stream",
     "text": [
      "Epoch 174/200 | Train Loss 1.5254 Acc 42.65% | Val Loss 1.7676 Acc 74.85% Top5 90.83%\n"
     ]
    },
    {
     "name": "stderr",
     "output_type": "stream",
     "text": [
      "Epoch 175/200 Train: 100%|██████████| 46/46 [00:23<00:00,  1.98it/s, acc=44.4, loss=1.55]\n",
      "Validation: 100%|██████████| 11/11 [00:04<00:00,  2.20it/s]\n"
     ]
    },
    {
     "name": "stdout",
     "output_type": "stream",
     "text": [
      "Epoch 175/200 | Train Loss 1.5499 Acc 44.38% | Val Loss 1.7821 Acc 74.26% Top5 91.12%\n"
     ]
    },
    {
     "name": "stderr",
     "output_type": "stream",
     "text": [
      "Epoch 176/200 Train: 100%|██████████| 46/46 [00:23<00:00,  1.99it/s, acc=52.5, loss=1.56]\n",
      "Validation: 100%|██████████| 11/11 [00:04<00:00,  2.22it/s]\n"
     ]
    },
    {
     "name": "stdout",
     "output_type": "stream",
     "text": [
      "Epoch 176/200 | Train Loss 1.5558 Acc 52.50% | Val Loss 1.7892 Acc 74.26% Top5 90.53%\n"
     ]
    },
    {
     "name": "stderr",
     "output_type": "stream",
     "text": [
      "Epoch 177/200 Train: 100%|██████████| 46/46 [00:23<00:00,  1.98it/s, acc=51.5, loss=1.63]\n",
      "Validation: 100%|██████████| 11/11 [00:04<00:00,  2.23it/s]\n"
     ]
    },
    {
     "name": "stdout",
     "output_type": "stream",
     "text": [
      "Epoch 177/200 | Train Loss 1.6263 Acc 51.46% | Val Loss 1.7484 Acc 76.63% Top5 89.94%\n"
     ]
    },
    {
     "name": "stderr",
     "output_type": "stream",
     "text": [
      "Epoch 178/200 Train: 100%|██████████| 46/46 [00:22<00:00,  2.03it/s, acc=51.9, loss=1.63]\n",
      "Validation: 100%|██████████| 11/11 [00:04<00:00,  2.26it/s]\n"
     ]
    },
    {
     "name": "stdout",
     "output_type": "stream",
     "text": [
      "Epoch 178/200 | Train Loss 1.6297 Acc 51.94% | Val Loss 1.7856 Acc 75.44% Top5 90.83%\n"
     ]
    },
    {
     "name": "stderr",
     "output_type": "stream",
     "text": [
      "Epoch 179/200 Train: 100%|██████████| 46/46 [00:22<00:00,  2.02it/s, acc=46.6, loss=1.69]\n",
      "Validation: 100%|██████████| 11/11 [00:04<00:00,  2.26it/s]\n"
     ]
    },
    {
     "name": "stdout",
     "output_type": "stream",
     "text": [
      "Epoch 179/200 | Train Loss 1.6899 Acc 46.60% | Val Loss 1.7794 Acc 75.44% Top5 90.24%\n"
     ]
    },
    {
     "name": "stderr",
     "output_type": "stream",
     "text": [
      "Epoch 180/200 Train: 100%|██████████| 46/46 [00:22<00:00,  2.04it/s, acc=63.2, loss=1.64]\n",
      "Validation: 100%|██████████| 11/11 [00:04<00:00,  2.28it/s]\n"
     ]
    },
    {
     "name": "stdout",
     "output_type": "stream",
     "text": [
      "Epoch 180/200 | Train Loss 1.6448 Acc 63.18% | Val Loss 1.7599 Acc 76.04% Top5 90.83%\n"
     ]
    },
    {
     "name": "stderr",
     "output_type": "stream",
     "text": [
      "Epoch 181/200 Train: 100%|██████████| 46/46 [00:22<00:00,  2.01it/s, acc=54.2, loss=1.68]\n",
      "Validation: 100%|██████████| 11/11 [00:04<00:00,  2.23it/s]\n"
     ]
    },
    {
     "name": "stdout",
     "output_type": "stream",
     "text": [
      "Epoch 181/200 | Train Loss 1.6829 Acc 54.16% | Val Loss 1.7664 Acc 76.04% Top5 91.42%\n"
     ]
    },
    {
     "name": "stderr",
     "output_type": "stream",
     "text": [
      "Epoch 182/200 Train: 100%|██████████| 46/46 [00:22<00:00,  2.03it/s, acc=56, loss=1.69]  \n",
      "Validation: 100%|██████████| 11/11 [00:04<00:00,  2.25it/s]\n"
     ]
    },
    {
     "name": "stdout",
     "output_type": "stream",
     "text": [
      "Epoch 182/200 | Train Loss 1.6937 Acc 56.03% | Val Loss 1.7555 Acc 76.33% Top5 91.72%\n"
     ]
    },
    {
     "name": "stderr",
     "output_type": "stream",
     "text": [
      "Epoch 183/200 Train: 100%|██████████| 46/46 [00:22<00:00,  2.01it/s, acc=56, loss=1.61]  \n",
      "Validation: 100%|██████████| 11/11 [00:04<00:00,  2.24it/s]\n"
     ]
    },
    {
     "name": "stdout",
     "output_type": "stream",
     "text": [
      "Epoch 183/200 | Train Loss 1.6073 Acc 56.03% | Val Loss 1.7617 Acc 76.04% Top5 91.12%\n"
     ]
    },
    {
     "name": "stderr",
     "output_type": "stream",
     "text": [
      "Epoch 184/200 Train: 100%|██████████| 46/46 [00:22<00:00,  2.00it/s, acc=43.3, loss=1.53]\n",
      "Validation: 100%|██████████| 11/11 [00:04<00:00,  2.25it/s]\n"
     ]
    },
    {
     "name": "stdout",
     "output_type": "stream",
     "text": [
      "Epoch 184/200 | Train Loss 1.5325 Acc 43.27% | Val Loss 1.7512 Acc 75.74% Top5 91.12%\n"
     ]
    },
    {
     "name": "stderr",
     "output_type": "stream",
     "text": [
      "Epoch 185/200 Train: 100%|██████████| 46/46 [00:23<00:00,  2.00it/s, acc=60.1, loss=1.62]\n",
      "Validation: 100%|██████████| 11/11 [00:04<00:00,  2.25it/s]\n"
     ]
    },
    {
     "name": "stdout",
     "output_type": "stream",
     "text": [
      "Epoch 185/200 | Train Loss 1.6180 Acc 60.06% | Val Loss 1.7530 Acc 76.33% Top5 90.83%\n"
     ]
    },
    {
     "name": "stderr",
     "output_type": "stream",
     "text": [
      "Epoch 186/200 Train: 100%|██████████| 46/46 [00:22<00:00,  2.03it/s, acc=57.3, loss=1.69]\n",
      "Validation: 100%|██████████| 11/11 [00:04<00:00,  2.23it/s]\n"
     ]
    },
    {
     "name": "stdout",
     "output_type": "stream",
     "text": [
      "Epoch 186/200 | Train Loss 1.6943 Acc 57.28% | Val Loss 1.7635 Acc 76.33% Top5 91.42%\n"
     ]
    },
    {
     "name": "stderr",
     "output_type": "stream",
     "text": [
      "Epoch 187/200 Train: 100%|██████████| 46/46 [00:23<00:00,  1.97it/s, acc=62.6, loss=1.58]\n",
      "Validation: 100%|██████████| 11/11 [00:05<00:00,  2.14it/s]\n"
     ]
    },
    {
     "name": "stdout",
     "output_type": "stream",
     "text": [
      "Epoch 187/200 | Train Loss 1.5773 Acc 62.55% | Val Loss 1.7729 Acc 74.26% Top5 91.72%\n"
     ]
    },
    {
     "name": "stderr",
     "output_type": "stream",
     "text": [
      "Epoch 188/200 Train: 100%|██████████| 46/46 [00:23<00:00,  1.97it/s, acc=53.3, loss=1.59]\n",
      "Validation: 100%|██████████| 11/11 [00:04<00:00,  2.20it/s]\n"
     ]
    },
    {
     "name": "stdout",
     "output_type": "stream",
     "text": [
      "Epoch 188/200 | Train Loss 1.5889 Acc 53.33% | Val Loss 1.7714 Acc 75.15% Top5 90.83%\n"
     ]
    },
    {
     "name": "stderr",
     "output_type": "stream",
     "text": [
      "Epoch 189/200 Train: 100%|██████████| 46/46 [00:23<00:00,  1.99it/s, acc=45.4, loss=1.48]\n",
      "Validation: 100%|██████████| 11/11 [00:04<00:00,  2.22it/s]\n"
     ]
    },
    {
     "name": "stdout",
     "output_type": "stream",
     "text": [
      "Epoch 189/200 | Train Loss 1.4792 Acc 45.35% | Val Loss 1.7596 Acc 76.04% Top5 91.72%\n"
     ]
    },
    {
     "name": "stderr",
     "output_type": "stream",
     "text": [
      "Epoch 190/200 Train: 100%|██████████| 46/46 [00:22<00:00,  2.02it/s, acc=44.5, loss=1.8] \n",
      "Validation: 100%|██████████| 11/11 [00:04<00:00,  2.26it/s]\n"
     ]
    },
    {
     "name": "stdout",
     "output_type": "stream",
     "text": [
      "Epoch 190/200 | Train Loss 1.8015 Acc 44.52% | Val Loss 1.7642 Acc 76.04% Top5 91.12%\n"
     ]
    },
    {
     "name": "stderr",
     "output_type": "stream",
     "text": [
      "Epoch 191/200 Train: 100%|██████████| 46/46 [00:22<00:00,  2.02it/s, acc=61.7, loss=1.7] \n",
      "Validation: 100%|██████████| 11/11 [00:04<00:00,  2.27it/s]\n"
     ]
    },
    {
     "name": "stdout",
     "output_type": "stream",
     "text": [
      "Epoch 191/200 | Train Loss 1.7008 Acc 61.72% | Val Loss 1.7729 Acc 74.85% Top5 90.83%\n"
     ]
    },
    {
     "name": "stderr",
     "output_type": "stream",
     "text": [
      "Epoch 192/200 Train: 100%|██████████| 46/46 [00:22<00:00,  2.05it/s, acc=56.4, loss=1.62]\n",
      "Validation: 100%|██████████| 11/11 [00:04<00:00,  2.28it/s]\n"
     ]
    },
    {
     "name": "stdout",
     "output_type": "stream",
     "text": [
      "Epoch 192/200 | Train Loss 1.6206 Acc 56.38% | Val Loss 1.7741 Acc 75.15% Top5 90.24%\n"
     ]
    },
    {
     "name": "stderr",
     "output_type": "stream",
     "text": [
      "Epoch 193/200 Train: 100%|██████████| 46/46 [00:22<00:00,  2.02it/s, acc=61.4, loss=1.67]\n",
      "Validation: 100%|██████████| 11/11 [00:04<00:00,  2.29it/s]\n"
     ]
    },
    {
     "name": "stdout",
     "output_type": "stream",
     "text": [
      "Epoch 193/200 | Train Loss 1.6687 Acc 61.37% | Val Loss 1.7896 Acc 75.15% Top5 90.53%\n"
     ]
    },
    {
     "name": "stderr",
     "output_type": "stream",
     "text": [
      "Epoch 194/200 Train: 100%|██████████| 46/46 [00:22<00:00,  2.02it/s, acc=55, loss=1.6]   \n",
      "Validation: 100%|██████████| 11/11 [00:04<00:00,  2.22it/s]\n"
     ]
    },
    {
     "name": "stdout",
     "output_type": "stream",
     "text": [
      "Epoch 194/200 | Train Loss 1.6034 Acc 54.99% | Val Loss 1.7766 Acc 74.56% Top5 91.12%\n"
     ]
    },
    {
     "name": "stderr",
     "output_type": "stream",
     "text": [
      "Epoch 195/200 Train: 100%|██████████| 46/46 [00:22<00:00,  2.03it/s, acc=48.1, loss=1.56]\n",
      "Validation: 100%|██████████| 11/11 [00:04<00:00,  2.27it/s]\n"
     ]
    },
    {
     "name": "stdout",
     "output_type": "stream",
     "text": [
      "Epoch 195/200 | Train Loss 1.5584 Acc 48.13% | Val Loss 1.7633 Acc 76.33% Top5 90.53%\n"
     ]
    },
    {
     "name": "stderr",
     "output_type": "stream",
     "text": [
      "Epoch 196/200 Train: 100%|██████████| 46/46 [00:22<00:00,  2.02it/s, acc=51.5, loss=1.6] \n",
      "Validation: 100%|██████████| 11/11 [00:04<00:00,  2.27it/s]\n"
     ]
    },
    {
     "name": "stdout",
     "output_type": "stream",
     "text": [
      "Epoch 196/200 | Train Loss 1.5957 Acc 51.46% | Val Loss 1.7885 Acc 74.56% Top5 90.83%\n"
     ]
    },
    {
     "name": "stderr",
     "output_type": "stream",
     "text": [
      "Epoch 197/200 Train: 100%|██████████| 46/46 [00:22<00:00,  2.04it/s, acc=50.1, loss=1.61]\n",
      "Validation: 100%|██████████| 11/11 [00:04<00:00,  2.25it/s]\n"
     ]
    },
    {
     "name": "stdout",
     "output_type": "stream",
     "text": [
      "Epoch 197/200 | Train Loss 1.6099 Acc 50.14% | Val Loss 1.7698 Acc 75.15% Top5 90.83%\n"
     ]
    },
    {
     "name": "stderr",
     "output_type": "stream",
     "text": [
      "Epoch 198/200 Train: 100%|██████████| 46/46 [00:22<00:00,  2.07it/s, acc=58.7, loss=1.63]\n",
      "Validation: 100%|██████████| 11/11 [00:04<00:00,  2.23it/s]\n"
     ]
    },
    {
     "name": "stdout",
     "output_type": "stream",
     "text": [
      "Epoch 198/200 | Train Loss 1.6280 Acc 58.67% | Val Loss 1.7803 Acc 74.56% Top5 90.53%\n"
     ]
    },
    {
     "name": "stderr",
     "output_type": "stream",
     "text": [
      "Epoch 199/200 Train: 100%|██████████| 46/46 [00:23<00:00,  1.99it/s, acc=60.8, loss=1.41]\n",
      "Validation: 100%|██████████| 11/11 [00:04<00:00,  2.23it/s]\n"
     ]
    },
    {
     "name": "stdout",
     "output_type": "stream",
     "text": [
      "Epoch 199/200 | Train Loss 1.4118 Acc 60.82% | Val Loss 1.7626 Acc 74.26% Top5 91.72%\n"
     ]
    },
    {
     "name": "stderr",
     "output_type": "stream",
     "text": [
      "Epoch 200/200 Train: 100%|██████████| 46/46 [00:23<00:00,  1.99it/s, acc=41.2, loss=1.46]\n",
      "Validation: 100%|██████████| 11/11 [00:04<00:00,  2.28it/s]\n"
     ]
    },
    {
     "name": "stdout",
     "output_type": "stream",
     "text": [
      "Epoch 200/200 | Train Loss 1.4591 Acc 41.19% | Val Loss 1.7536 Acc 75.44% Top5 91.42%\n",
      "Training complete. Best val: 76.62721866404517\n",
      "Training log saved to training_log.csv\n",
      "Training curves saved to training_curves.png\n"
     ]
    },
    {
     "name": "stderr",
     "output_type": "stream",
     "text": [
      "Testing: 100%|██████████| 9/9 [00:03<00:00,  2.40it/s]"
     ]
    },
    {
     "name": "stdout",
     "output_type": "stream",
     "text": [
      "Final Test Accuracy: 72.09% Top5: 88.76%\n"
     ]
    },
    {
     "name": "stderr",
     "output_type": "stream",
     "text": [
      "\n"
     ]
    }
   ],
   "source": [
    "if __name__ == '__main__':\n",
    "    main()"
   ]
  },
  {
   "cell_type": "code",
   "execution_count": null,
   "metadata": {
    "trusted": true
   },
   "outputs": [],
   "source": []
  },
  {
   "cell_type": "code",
   "execution_count": null,
   "metadata": {
    "trusted": true
   },
   "outputs": [],
   "source": []
  },
  {
   "cell_type": "code",
   "execution_count": null,
   "metadata": {
    "trusted": true
   },
   "outputs": [],
   "source": []
  },
  {
   "cell_type": "code",
   "execution_count": null,
   "metadata": {
    "trusted": true
   },
   "outputs": [],
   "source": []
  },
  {
   "cell_type": "code",
   "execution_count": null,
   "metadata": {
    "trusted": true
   },
   "outputs": [],
   "source": []
  },
  {
   "cell_type": "code",
   "execution_count": null,
   "metadata": {
    "trusted": true
   },
   "outputs": [],
   "source": []
  }
 ],
 "metadata": {
  "kaggle": {
   "accelerator": "nvidiaTeslaT4",
   "dataSources": [
    {
     "datasetId": 8335217,
     "sourceId": 13155294,
     "sourceType": "datasetVersion"
    },
    {
     "datasetId": 8589371,
     "sourceId": 13527533,
     "sourceType": "datasetVersion"
    },
    {
     "isSourceIdPinned": true,
     "modelId": 483555,
     "modelInstanceId": 467731,
     "sourceId": 621868,
     "sourceType": "modelInstanceVersion"
    }
   ],
   "dockerImageVersionId": 31090,
   "isGpuEnabled": true,
   "isInternetEnabled": true,
   "language": "python",
   "sourceType": "notebook"
  },
  "kernelspec": {
   "display_name": "Python 3",
   "language": "python",
   "name": "python3"
  },
  "language_info": {
   "codemirror_mode": {
    "name": "ipython",
    "version": 3
   },
   "file_extension": ".py",
   "mimetype": "text/x-python",
   "name": "python",
   "nbconvert_exporter": "python",
   "pygments_lexer": "ipython3",
   "version": "3.11.13"
  }
 },
 "nbformat": 4,
 "nbformat_minor": 4
}
